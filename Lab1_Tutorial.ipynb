{
  "cells": [
    {
      "cell_type": "markdown",
      "metadata": {
        "id": "BJrnAnEr7nu_"
      },
      "source": [
        "# Getting started with Google Colab, Python, and Numpy\n",
        "This tutorial is inspired by the following online tutorials:\n",
        "\n",
        "*   https://towardsdatascience.com/getting-started-with-google-colab-f2fff97f594c\n",
        "*   http://cs231n.github.io/python-numpy-tutorial/\n",
        "\n"
      ]
    },
    {
      "cell_type": "markdown",
      "metadata": {
        "id": "-FGd6_PK8-JG"
      },
      "source": [
        "## Google Colab"
      ]
    },
    {
      "cell_type": "markdown",
      "metadata": {
        "id": "4VawkdKv9DO2"
      },
      "source": [
        "Google Colab is a free cloud service based on Jupyter Notebooks that supports free GPU. Not only is this a great tool for improving your coding skills, but it also allows absolutely anyone to develop deep learning applications using popular libraries such as PyTorch, TensorFlow, Keras, and OpenCV.\n",
        "\n",
        "### Setting up your drive\n",
        "If you don't already have a Gmail account, you need to create one. Then go to your [Google Drive](https://drive.google.com/drive/my-drive) and create a folder for your notebooks. You can do that by clicking “New” and then creating a new folder.\n",
        "\n",
        "![alt text](https://cdn-images-1.medium.com/max/1600/1*Rp17M-6CBfynldko2V4jmg.png)\n",
        "\n",
        "### Creating a new notebook\n",
        "If you want, while you’re already in your Google Drive you can create a new Colab notebook. Just click “New” and drop the menu down to “More” and then select “Colaboratory.”\n",
        "\n",
        "![alt text](https://cdn-images-1.medium.com/max/1600/1*SJfgGypNyhpAfNDBNA7eDg.png)\n",
        "\n",
        "Otherwise, you can always go directly to [Google Colab](https://colab.research.google.com/).\n",
        "\n",
        "You can rename your notebook by clicking on the name of the notebook and changing it or by dropping the “File” menu down to “Rename.”\n",
        "\n",
        "![alt text](https://cdn-images-1.medium.com/max/1600/1*LziarBuysU5ZpwdaWUdnBQ.png)\n",
        "\n",
        "### Set up your free GPU\n",
        "To enable GPU go to the “runtime” dropdown menu, select “change runtime type” and select GPU in the hardware accelerator drop-down menu.\n",
        "\n",
        "![alt text](https://cdn-images-1.medium.com/max/1600/1*7du2-qMemro5nvxnePNuKQ.png)\n",
        "\n",
        "### Before you proceed\n",
        "This notebook is read-only. To proceed **you must make a copy in your Google Drive**. To do this, select \"Save a copy in Drive\" in the File menu.\n"
      ]
    },
    {
      "cell_type": "markdown",
      "metadata": {
        "id": "bioIWtxpAAu2"
      },
      "source": [
        "### How to run code\n",
        "Notebooks consist of text blocks and code blocks. This is a **text block**.\n",
        "\n",
        "The block below is a **code block**. To run the code block, either click the Play button (left side) or simply press Shift-Enter."
      ]
    },
    {
      "cell_type": "code",
      "execution_count": 1,
      "metadata": {
        "colab": {
          "base_uri": "https://localhost:8080/"
        },
        "id": "TsrF6etMAZrV",
        "outputId": "dae2adce-1bae-40de-8443-a8932bcf4e74"
      },
      "outputs": [
        {
          "output_type": "stream",
          "name": "stdout",
          "text": [
            "Hello world!\n"
          ]
        }
      ],
      "source": [
        "print(\"Hello world!\")"
      ]
    },
    {
      "cell_type": "markdown",
      "metadata": {
        "id": "s_pawSeaBMzf"
      },
      "source": [
        "### Mounting your Google Drive folder\n",
        "At some point during the course you will want to mount your Google Drive:\n"
      ]
    },
    {
      "cell_type": "code",
      "execution_count": 22,
      "metadata": {
        "colab": {
          "base_uri": "https://localhost:8080/"
        },
        "id": "bqdHYjb-BkJW",
        "outputId": "373e7711-cdc6-4e88-9e7d-28ffb24b05d4"
      },
      "outputs": [
        {
          "output_type": "stream",
          "name": "stdout",
          "text": [
            "Mounted at /content/gdrive\n"
          ]
        }
      ],
      "source": [
        "from google.colab import drive\n",
        "drive.mount('/content/gdrive')"
      ]
    },
    {
      "cell_type": "markdown",
      "metadata": {
        "id": "hCjdk5q7Bzl_"
      },
      "source": [
        "You’ll see a link. Click on that, allow access, copy the code that pops up, paste it in the box, hit enter, and you’re good to go. If you don’t see your drive in the side box on the left, just hit “refresh” and it should show up.\n",
        "\n",
        "It should look something like this:\n",
        "\n",
        "![alt text](https://cdn-images-1.medium.com/max/1600/1*VrRLOThfoTpy_2ruTzV3yg.png)\n",
        "\n",
        "Now you can see your drive right there on the left-hand side of the screen! (You may need to hit “refresh.”) Plus, you can reach your drive any time with"
      ]
    },
    {
      "cell_type": "code",
      "execution_count": 23,
      "metadata": {
        "colab": {
          "base_uri": "https://localhost:8080/"
        },
        "id": "jcMfKlxYCLm0",
        "outputId": "17b1f08d-93c9-4af5-80d7-47d2e63510d6"
      },
      "outputs": [
        {
          "output_type": "stream",
          "name": "stdout",
          "text": [
            "'01102019box33678.xlsx; filename=\"01102019box33678.xlsx\"'\n",
            "'01102019box33678.xlsx; filename=\"01102019box33678.xlsx\".gsheet'\n",
            "'12. feb 2018 koo.gdoc'\n",
            "'12 marts kooprotokol.gdoc'\n",
            " 20190206_160612.jpg\n",
            "'2021 Calendar.gsheet'\n",
            "'2023 Evaluering - Påskeseminar.gform'\n",
            "'2023 Evaluering - Påskeseminar (Responses).gsheet'\n",
            "'2023 påskeseminar-evaluering.gdoc'\n",
            "'2024 Evaluering - Påskeseminar.gform'\n",
            "'24 6 2020.gdoc'\n",
            " 2.januar.gdoc\n",
            "'2. ledelsesmøde marts 2018.xlsx.gsheet'\n",
            " 3724480.gdoc\n",
            " 3724480.pdf\n",
            "'40_ Faktura husleje Mindegade 2017.gdoc'\n",
            "'40_ Faktura husleje Mindegade 2017.pdf'\n",
            "'7 5 økoudvalg.gdoc'\n",
            " 8.marts.gdoc\n",
            "'åbningstale AM 17.gdoc'\n",
            "'ÆF til AM 19.gdoc'\n",
            "'ÆF til budget:.gdoc'\n",
            "'Afleveringer overblik semester 4 agro.gdoc'\n",
            "'Afslag -.-  og kom til samtale, I andre!.gdoc'\n",
            "'Afsluttende projekt i EL og LIS.gdoc'\n",
            "'Agro 1 semesterplan.gdoc'\n",
            "'Agromikro eksamen dispositioner.gdoc'\n",
            "'Agroøkologi- Vinderosion og læhegns betydning i Danmark ghe.gdoc'\n",
            "'Agroøkologi- Vinderosion og læhegns betydning i Danmark ghe.pdf'\n",
            "'Agro tidsforbug.gsheet'\n",
            "'AI brainstorm.gdoc'\n",
            " AlgBio23_Group6_Project3_Presentation.gslides\n",
            "'Algbio23-project3 - Line chart 1.gsheet'\n",
            "'Alle de cool roller på forårsseminaret! <3.gdoc'\n",
            "'Alle ud af moria.gdoc'\n",
            "'Alt hvad du skal vide om Landsmødet 2021.gdoc'\n",
            "'Alt hvad du skal vide om Landsmødet 2021.pdf'\n",
            "\"AM'17.gdoc\"\n",
            " AM-beskrivelse.gdoc\n",
            "'am budget.xlsx'\n",
            "'AM Rød Grøn.gdoc'\n",
            "'Angela_Hambi bleibt.gdoc'\n",
            "'Angela_Hambi bleibt.rtf'\n",
            "'Ansvarsfordeling på LM.gdoc'\n",
            "'Arbejdsgruppens arbejdsark.gdoc'\n",
            "'Arbejdsopgaver Møde 29 sep 1 okt.gsheet'\n",
            "'baltic pipeeeee.gdoc'\n",
            "'Bemærkning til regnskab 2023 igen.gdoc'\n",
            "'Bilag 077 084 092 2024 3 kvart husleje.jfif.gdoc'\n",
            "'Bilag 103 121 132 2024 4 kvrt husleje.gdoc'\n",
            "'bilag 87 (1).gdoc'\n",
            "'bilag 87.gdoc'\n",
            "'bilag 87.pdf'\n",
            "'Bilag om seminar til ledelse.gdoc'\n",
            " Bilagsforklaring.gdoc\n",
            "'Bilag sidste ledelsesmøde.gdoc'\n",
            "'Bilagskompendie til ledelsesmødet weekenden d. 28-30 maj.gdoc'\n",
            "'Bilagskompendie til ledelsesmødet weekenden d. 28-30 maj.pdf'\n",
            "'Bilag til ledelsen fra kasserer.gdoc'\n",
            "'Bilag til Ledelsesmødet d 28-30 maj.docx'\n",
            "'Birc project day F24.gslides'\n",
            "'Bob-artikel om Seminar.gdoc'\n",
            "'BOB valgkamp eller direkte aktion.gdoc'\n",
            "'Brainstorm opgaveemner.gdoc'\n",
            " Brainstorm_workshop_landbrug.gslides\n",
            "'Brev til VKL.gdoc'\n",
            "'busk 10 hvornum illegal hihi.shp.zip'\n",
            "'busk 11 hvornum skov.shp.zip'\n",
            "'busk 13 snæbum uhhh (1).shp.zip'\n",
            "'busk 13 snæbum uhhh.shp.zip'\n",
            "'busk 1 hvornum.shp.zip'\n",
            "'busk 4 revel.shp.zip'\n",
            "'busk 5 hjortshøj.shp.zip'\n",
            "'busk 6 hjortshøj.shp.zip'\n",
            "'busk 7 hjortshøj.shp.zip'\n",
            "'busk 8 revel.shp.zip'\n",
            "'busk 9 skjolle.shp.zip'\n",
            "'Calculations for chap 1-3 ET.gdoc'\n",
            "'Calculus GULD.zip'\n",
            "'Calculus GULD.zip (Unzipped Files)'\n",
            " Cases.gdoc\n",
            " cat.jpg\n",
            "'Celledifferentiering hos flercellede organismer.gdoc'\n",
            "'Census collection attempt.gsheet'\n",
            "'Code Rood.gdoc'\n",
            "'Colab Notebooks'\n",
            " Conceptual_overview_0208.gdoc\n",
            "'Copy of A perfect day (1).gdoc'\n",
            "'Copy of A perfect day.gdoc'\n",
            "'Copy of A Perfect Day (Mark-up).gdoc'\n",
            "'Copy of Asking for trouble (1).gdoc'\n",
            "'Copy of Asking for trouble.gdoc'\n",
            "'Copy of A strange country (1).gdoc'\n",
            "'Copy of A strange country.gdoc'\n",
            "'Copy of bilag 77.gdoc'\n",
            "'Copy of Constance · SlidesCarnival.gslides'\n",
            "'Copy of Daglig-konto-1 3.6.2024-11.8.2025.gdoc'\n",
            "'Copy of Eglamour · SlidesCarnival.gslides'\n",
            "'Copy of Nominate a torchbearer (Girl, exam, 10th grade).gdoc'\n",
            "'Copy of Pisanio · SlidesCarnival.gslides'\n",
            "'Copy of Quickly · SlidesCarnival (1).gslides'\n",
            "'Copy of Quickly · SlidesCarnival.gslides'\n",
            "'Copy of Regn2024_bud_2025_26 til revisorer.xlsx'\n",
            "'Copy of Seyton · SlidesCarnival (1).gslides'\n",
            "'Copy of Seyton · SlidesCarnival.gslides'\n",
            "'Copy of Timon · SlidesCarnival.gslides'\n",
            "'Copy of Wart · SlidesCarnival.gslides'\n",
            "'Copy of Wasp is Guarding its Nest Presentation #54839 (1).gslides'\n",
            "'Copy of Wasp is Guarding its Nest Presentation #54839 (2).gslides'\n",
            "'Copy of Wasp is Guarding its Nest Presentation #54839 (3).gslides'\n",
            "'Copy of Wasp is Guarding its Nest Presentation #54839.gslides'\n",
            "'Copy of What is success in life?.gdoc'\n",
            "'Corona-aktivismemøde 17 5 2020.gdoc'\n",
            " Corona.gdoc\n",
            "'Corona plakatt.png'\n",
            "'corona suf version.png'\n",
            "'Country report (1).gdoc'\n",
            "'Country report.gdoc'\n",
            "'CVet for livet.gdoc'\n",
            "'Daglig konto posteringer netbank (1).pdf'\n",
            "'Daglig konto posteringer netbank.pdf'\n",
            "'Dagsorden, Arbejdsplan og Forretningsorden til AM2021.docx'\n",
            " Dagsorden.gdoc\n",
            "'Dagsorden konstituerende ledelsesmøde.gdoc'\n",
            "'Darwin osv.gslides'\n",
            " Data.gsheet\n",
            "'DataVis recap lecture notes.gdoc'\n",
            "'DataVis Trump by brainstorm.gdoc'\n",
            " deep_learning\n",
            "'Deltag lige igen!.gdoc'\n",
            " Deltidsrejsesek.gdoc\n",
            "'Dencik og Højholt ift. studieprodukt 1 EL.gdoc'\n",
            "'Den danske delgations evaluering af ISUL 2018.gform'\n",
            "'Den giga plantesammenligner :O.gdoc'\n",
            "'Den nye flyer <3.gdoc'\n",
            "'Den seje liste.gsheet'\n",
            "'DEN ULTIMATIVE GUIDE TIL KANINPASNING.pdf.gdoc'\n",
            "'“Designerbørn” og andet.gslides'\n",
            "'Det med nitrifikation.gdoc'\n",
            "'Det skal kunne lade sig gøre tekster.gdoc'\n",
            "'Det store dagsordens overblik (1).gdoc'\n",
            "'Det store dagsordens overblik (2).gdoc'\n",
            "'Det store dagsordens overblik (3).gdoc'\n",
            "'Det store dagsordens overblik.docx'\n",
            "'Det store dagsordens overblik.gdoc'\n",
            " Digte.gdoc\n",
            "'dirigenter opgaver 2023.gsheet'\n",
            "'DIY bilagskompedium.gdoc'\n",
            "'docsversion af PØ4 PØ6.gdoc'\n",
            "'Drejebog ansættelse af orgsek og loksek 2014.docx'\n",
            "'Drejebog ansættelse af orgsek og loksek 2014.gdoc'\n",
            " DSB-opslag.gdoc\n",
            "'DSC_1563 (1).JPG'\n",
            " DSC_1563.JPG\n",
            "'Dum brainstorm!! projekt.gdoc'\n",
            "'Egne tasninger glyphosat.gdoc'\n",
            " EG-workshop.gdoc\n",
            "'Eksamen 4 semester.gsheet'\n",
            "'Eksamenslæsningsplan semester 2.gsheet'\n",
            "'Eksamensplan 3. semester.gsheet'\n",
            "'eksamensplan sem 5.gsheet'\n",
            "'Eksamen videnskabsteori.gdoc'\n",
            "'Eksporter_posteringer_til_CSV (10).csv'\n",
            "'Eksporter_posteringer_til_CSV (10).gsheet'\n",
            "'Eksporter_posteringer_til_CSV (12).csv'\n",
            "'Eksporter_posteringer_til_CSV (12).gsheet'\n",
            "'Ende Gelände 2018 (1).gslides'\n",
            "'Ende Gelände 2018.gslides'\n",
            "'Ende Gelände.gdoc'\n",
            "'Ende Gelände-Udtalelse.gdoc'\n",
            "'Endnu et punkt om ansættelser.gdoc'\n",
            "'ERHVERVSLEJEKONTRAKT GLM 11 01012021.docx'\n",
            "'ERHVERVSLEJEKONTRAKT GLM 11 01012021.gdoc'\n",
            "'Erosion præsentation.gslides'\n",
            "'ET hand-in 2 group 6.gdoc'\n",
            "'ET hand-in 3 group 6.gdoc'\n",
            "'Etisk vurdering indenfor lægevidenskab og bioteknologi.gslides'\n",
            "'et timeark.gsheet'\n",
            "'Evaluering af ledelsesår.gdoc'\n",
            " ExorLive-Workout.pdf\n",
            "'Experiments MST.gslides'\n",
            "'Feedback til vores makkergruppe.gdoc'\n",
            " fEMINISME.gslides\n",
            "'Feminisme rød skole.gslides'\n",
            "'final project koderod.gdoc'\n",
            "'Fint lille opslag.gdoc'\n",
            "'fjerde semester tid.gsheet'\n",
            "'Flere traeningsopgaver (med losninger) (del 2).docx'\n",
            " FLIX-Booking-1047956724.gdoc\n",
            " FLIX-Booking-1047956724.pdf\n",
            "'FLyer til 8. marts aktion.gdoc'\n",
            "'Forårssemigruppe 10 3.gdoc'\n",
            "'Forårssemimøde 1 2 2020.gdoc'\n",
            "'Forårssemimøde 20 feb.gdoc'\n",
            "'Forårssemimøde 4 1.gdoc'\n",
            "'Forslag til arbejdsplan for Enhedslisten Århus.docx'\n",
            " Forstormødepunkt.gdoc\n",
            " Forstormøder.gdoc\n",
            "'Fremlæggelse ELLIS.gslides'\n",
            "'Friday week 41 ET.gdoc'\n",
            "'Fucking skolevalg .gdoc'\n",
            "'Gave brainstorm.gdoc'\n",
            " Generalforsamling.gform\n",
            "'Generel ansøgning.gdoc'\n",
            "'generelle kladder.gdoc'\n",
            "'Getting started.pdf'\n",
            " Glyphosat.gslides\n",
            "'GMO i Latinamerika.gslides'\n",
            " Grøngødning.gdoc\n",
            "'Grøn udtalelse møde.gdoc'\n",
            "'group10 - Skabt med Clipchamp_1702555046901.mp4'\n",
            "'Grupper i skolen.gslides'\n",
            "'hegn 2 skjolle m info.csv'\n",
            "'hegn 2 skjolle.shp.zip'\n",
            "'hegn 3 revelhøj.shp.zip'\n",
            "'Her er statussen fra isul (1).gdoc'\n",
            "'Her er statussen fra isul.docx'\n",
            "'Her er statussen fra isul.gdoc'\n",
            "'Homer, Sofokles og Platon.gdoc'\n",
            "'Hurtig update fra LM mobilisering + forstormøder.gdoc'\n",
            "'Hurtig update.gslides'\n",
            " Huskeliste.gdoc\n",
            "'Husleje 7 8 9 2024.jfif.gdoc'\n",
            "'Hvad kan jeg sige??? denitrifikation.gdoc'\n",
            "'Hvad kan vi gøre til mødet?.gdoc'\n",
            "'Hvad skal den nye ledelse huske for Økos skyld?.gdoc'\n",
            "'Hvad skal gøres?.gdoc'\n",
            "'Hvad skal ledelsen og hvad skal den ikke.gdoc'\n",
            "'Hvad vil vi med samtalen?.gdoc'\n",
            "'Hvem har sendt?.gdoc'\n",
            "'Hvem til punkter? Last møde.gdoc'\n",
            "'Hvordan redder man sit AT? Sådan her!.gdoc'\n",
            "'Hvorfor ISUL?.gdoc'\n",
            "'Ideer til hvem der kan holde oplæg.gdoc'\n",
            "'ideer til mundtlig halløjsa.gdoc'\n",
            " Identitær.gslides\n",
            " IMG_20241103_094129.jpg\n",
            "'Interpolation weight exploration lol.gsheet'\n",
            "'Jagten på kræftgenet.gdoc'\n",
            "'Jord eksamensopgave????? ideer.gdoc'\n",
            "'Jordens fysiske egenskaber.gdoc'\n",
            "'Jord hydrologi.gdoc'\n",
            "'Jordklassificering Tune.gdoc'\n",
            " Jord-kortlægning.gdoc\n",
            "'Jyske Heste.gslides'\n",
            "'Kandidatlister til de delegerede.docx'\n",
            "'kasserer huskeliste.gdoc'\n",
            "'Kassereroverlevering noter.gdoc'\n",
            "'Kiosk til sommerlejr.xlsx'\n",
            "'Kiosk til sommerlejr.xlsx.gsheet'\n",
            " kladder.gdoc\n",
            "'klimaflygtninge flyertekst.gdoc'\n",
            " Kommentarerne.gdoc\n",
            "'Kontingentinddrivningsbilag til ledelsen.docx'\n",
            "'Kontingentinddrivningsbilag til ledelsen.gdoc'\n",
            "'Koo 23 11.gdoc'\n",
            "'Koomøde 14.9.gdoc'\n",
            "'Koomøde 2 11 2017.gdoc'\n",
            "'Koomøde 21 9.gdoc'\n",
            "'Koomøde 4. september.gdoc'\n",
            "'Kooprotokol 16 11.gdoc'\n",
            "'Kooprotokol 19 10.gdoc'\n",
            "'Kooprotokol 26 10 2017.gdoc'\n",
            "'Kooprotokol 28.sep.gdoc'\n",
            "'Kooprotokol 29. januar.gdoc'\n",
            "'Koo'\\''s nye mødedag!! ☭☭☭☭.gform'\n",
            "'Kopi af Program!.gdoc'\n",
            "'Kopi af Timeoptælling (1).xlsx'\n",
            "'Kopi af Timeoptælling.gsheet'\n",
            "'Kopi af Timeoptælling.xlsx'\n",
            "'Kort imod kapitalen.gdoc'\n",
            "'kort update til sap.gdoc'\n",
            "'Kritisk rev igen 2023.gdoc'\n",
            "'Kritisk revision ELÅK 2023 2024.gdoc'\n",
            "'Kronik til solidaritet.gdoc'\n",
            "'kunstig befrugtning.m4a'\n",
            "'Kvælstoffiksering+biofiltre +mikrobiel aktivitet i jordmiljøer.gslides'\n",
            "'Labyrinht  .gdoc'\n",
            "'Lad os stoppe lavningen af racistiske love (1).gdoc'\n",
            "'Lad os stoppe lavningen af racistiske love.docx'\n",
            "'Lad os stoppe lavningen af racistiske love.gdoc'\n",
            " Lærerhalløj\n",
            "'Landbrug og hvad der er galt med det.gslides'\n",
            "'Las respuestas MAT A (ddddd).gdoc'\n",
            "'Ledelsen!!.gslides'\n",
            "'Ledelsens forslag til arbejdsplan.gdoc'\n",
            "'Ledelsens korekte forslag til budget.gsheet'\n",
            "'LM18- Ringeliste til Århus (1).xlsx.gsheet'\n",
            "'LM18- Ringeliste til Århus (2).xlsx.gsheet'\n",
            "'LM18- Ringeliste til Århus.xlsx'\n",
            "'LM18- Ringeliste til Århus.xlsx.gsheet'\n",
            "'LM-mobilisering bilag til ledelsen.gdoc'\n",
            "'Løbende statistik.gsheet'\n",
            "'Lokaler SUF Århus.gdoc'\n",
            " Lookbook.gslides\n",
            "'Looking for thesis.gdoc'\n",
            " Lortealger.gdoc\n",
            " LS06_nm_fac3or4_diss_areaGE100m2.xlsx\n",
            " LS06_nm_fac4_diss_areaGE100m2.xlsx\n",
            " LS07_nm_fac3or4_diss_areaGE100m2.xlsx\n",
            " LS07_nm_fac4_diss_areaGE100m2.xlsx\n",
            " LS08_nm_fac3or4_diss_areaGE100m2.xlsx\n",
            " LS08_nm_fac4_diss_areaGE100m2.xlsx\n",
            " LS09_nm_fac3or4_diss_areaGE100m2.xlsx\n",
            " LS09_nm_fac4_diss_areaGE100m2.xlsx\n",
            " LS10_nm_fac3or4_diss_areaGE100m2.xlsx\n",
            " LS10_nm_fac4_diss_areaGE100m2.xlsx\n",
            "'Lukkede grænser-opslag.gdoc'\n",
            "'Lystbjerggård egne tastninger.gdoc'\n",
            "'mail til oma.gdoc'\n",
            "'Main points of stat geospat.gdoc'\n",
            "'Mave-tarm mikro.gslides'\n",
            " Median_skin_temperature_Hawaii_2020.tif\n",
            " Median_temperature_Hawaii_2020.tif\n",
            "'Medlemsliste - 2020-01-06. Vest.gsheet'\n",
            "'Medlemsliste - 2020-01-06. Vest.xlsx'\n",
            "'Medlemstal Århus.gdoc'\n",
            "'Memphis station.gdoc'\n",
            "'Mennesker og evolution.gslides'\n",
            " Messenger_creation_7410505C-9736-48EB-8915-4A3E59B43F0B.png\n",
            "'Min brainstorm afsluttende projekt.gdoc'\n",
            "'Mine praktiknoter.gdoc'\n",
            "'Mine svar på selvtests.gdoc'\n",
            "'Mine tastninger majs.gdoc'\n",
            "'Min respons på gruppe om inklusion, motivation og uv.-diff..gdoc'\n",
            "'Mobilisering+ forstormøder.gdoc'\n",
            "'Mobiliseringsmøder .gdoc'\n",
            "'Musvåger obligatory assignment 4.gslides'\n",
            "'Næsten osv..gdoc'\n",
            "'Nedskæringer??!?!? 💀.gdoc'\n",
            "'Nedtælling til gak og gøgl ideer.gdoc'\n",
            "'Neue Aufnahme 4.m4a'\n",
            " Nitrifikation+denitrifikation+kvælstoffiksering+annammox.gslides\n",
            " Nitrogen.gslides\n",
            "'Nitrogen rapport.gdoc'\n",
            "'Noter fra fremtidsmøde 21 11 2021.gdoc'\n",
            "'noter kritisk rev. ehl 2023 (2024).gdoc'\n",
            "'noter snak med astrid.gdoc'\n",
            "'Noter til regler om lokaletilskud.gdoc'\n",
            "'Noteskrivning egne noter om det juks.gdoc'\n",
            "'Nyere økonomisk overblik.gslides'\n",
            "'Nye Stillingsopslag 2021.gdoc'\n",
            "'nyt bilagskomp uden kooprod. til print.gdoc'\n",
            "'Nyt fra kooen.gdoc'\n",
            "'Nyt fra koo februar.gdoc'\n",
            " OK18-kampagneplan.gslides\n",
            "'øko 10 3 2021.gdoc'\n",
            "'Øko beretning brainstorm.gdoc'\n",
            "'Økobilag suf århus generalforsamling 2019.gdoc'\n",
            "'Øko gruppens forslag til budgetrevidering.gsheet'\n",
            "'Økomøde 14 6 2021.gdoc'\n",
            "'Økomøde 26 3 2021.gdoc'\n",
            "'Økomøde d. 22-10-2021.gdoc'\n",
            "'Økomøde d. 22-10-2021.pdf'\n",
            "'Økonomi investering brainstorm.gdoc'\n",
            "'Økonomisk beretning.gdoc'\n",
            "'Økonomiske beregninger.gsheet'\n",
            "' Økonomiske beregninger  redigeret.gsheet'\n",
            "'økoudvalg 26 8.gdoc'\n",
            "'Oma mail.gdoc'\n",
            "'Om Am til r+g.gdoc'\n",
            "'Omskrevet erosionsting (fuck folk der laver om på min tekst).gdoc'\n",
            " ønskeliste.gdoc\n",
            "'Opdatering fra UVK 1-3 marts.docx'\n",
            "'Ophør (da).gdoc'\n",
            "'Oplæg!!.gdoc'\n",
            " Oplægsholderbingo.gdoc\n",
            "'opsigelse bogholder.gdoc'\n",
            " Opstillign.gdoc\n",
            " Oremland.gdoc\n",
            "'orgsekting suffeluffe.gdoc'\n",
            "'Overblik økonomi.gslides'\n",
            "'Overlevering til ny ledelse (håndbog) .gdoc'\n",
            "'Oversigt over aftaler og arbejdsopgaver.gdoc'\n",
            "'Påskesemi deltagerevaluering 2025.gdoc'\n",
            "'Påskeseminar evaluering 2024.gdoc'\n",
            " Paula.docx\n",
            "'Perspektivering af vinderosion+ biodiversitet.gdoc'\n",
            "'Phönix aus der Asche.gsheet'\n",
            "'PIB Anastasia.gslides'\n",
            "'PIB E23.gslides'\n",
            "'PIB-presentation .gslides'\n",
            " Planlægningsmøde.gslides\n",
            "'Plan towards apr4.gdoc'\n",
            " powerpoint_for_defence.pptx\n",
            " Pressegruppeudtalelse.gdoc\n",
            "'Prison - Data by State.gsheet'\n",
            " Procesplan.docx\n",
            " Procesplan.pdf\n",
            "'Projekt i plantemikro Anastasia.gslides'\n",
            "'Promovering af aktionsmøde.gdoc'\n",
            "'Prøveeksamen .gdoc'\n",
            "'Punkt om ansattestruktur.gdoc'\n",
            "'Punkt om jydesek.gdoc'\n",
            "'Punkt om ledelseskift.gdoc'\n",
            "'Questions exams 2023.gdoc'\n",
            " quiz.pdf\n",
            " Recording_15.m4a\n",
            " Recording_17.m4a\n",
            "\"Red SUF's økonomi plan.gdoc\"\n",
            "'reelt drejø 14 (1).shp.zip'\n",
            "'reelt drejø 14.shp.zip'\n",
            "'Ref 6 6.gdoc'\n",
            "'Referat 12 8 2020 suf århus.gdoc'\n",
            "'Referat 2 9 2020.gdoc'\n",
            "'Referat 5 8 2020 suf århus.gdoc'\n",
            "'Referat fra ledelsesmødet lørdag d 13 oktober[896] kopi.docx'\n",
            "'Referat fra ledelsesmødet lørdag d 13 oktober[896] kopi.gdoc'\n",
            "'Referat fra ledelsesmødet lørdag d 13 oktober.docx'\n",
            "'Referat fra ledelsesmødet lørdag d 13 oktober.gdoc'\n",
            "'Referat Ledelsesmøde 12-14 okt.gdoc'\n",
            "'Referat, ledelsesmøde 3. november 2018 (1).gdoc'\n",
            "'Referat, ledelsesmøde 3. november 2018.docx'\n",
            "'Referat, ledelsesmøde 3. november 2018.gdoc'\n",
            "'Referat miniledelsesmøde.gdoc'\n",
            "'Referat østjylland GF 8 6 2020.gdoc'\n",
            "'Regnskab 2022 m budget 2023 ELÅK - Journal.gdoc'\n",
            "'Regnskab 2022 m budget 2023 ELÅK - Journal.pdf'\n",
            "'Regnskab 2023 m budget 2024 ELÅK - Google Sheets.gdoc'\n",
            " Repræsentantdokumentet.gdoc\n",
            "'Respons til gruppe E (EL om konflikter).gdoc'\n",
            "'RuNdimentær Statistik.gsheet'\n",
            "'Samlet ref oktober.gdoc'\n",
            "'Samling af AM-ting til MM :).gdoc'\n",
            "'SAP Medlemsliste - 2025-01-06.xlsx'\n",
            "'SAP påskeseminar.gslides'\n",
            "'SAP u ref 6 9 2021.gdoc'\n",
            " Screenshot_2017-04-26-08-14-49.jpeg\n",
            " script.gdoc\n",
            "'Se dagens lys.gdoc'\n",
            "'Sem 5 tid agro.gsheet'\n",
            "'Semesterplan agro 2.gdoc'\n",
            "'semimøde2 .gdoc'\n",
            "'Seminar invi.gdoc'\n",
            "'Sige hvad til SAP?.gdoc'\n",
            "'Skjoldhøj needs more nature-not less.gdoc'\n",
            " Skolevalg_Covers.zip\n",
            "'Skolevalg_Covers.zip (Unzipped Files)'\n",
            " Skolingsgruppe\n",
            "'skolingsgruppe sap ref 3.gdoc'\n",
            " skolingssemi.gdoc\n",
            " skolingssemi.pdf\n",
            " Slides_for_20240906.gslides\n",
            "'Solanio · SlidesCarnival.gslides'\n",
            "'Sommer 2022.gsheet'\n",
            "'Sommer 2023.gsheet'\n",
            "'Sommerferie tid uni 2021.gsheet'\n",
            " Sommerplan.gdoc\n",
            "'Sommer tidsregnskab.gsheet'\n",
            "'Sonja og Familie.gdoc'\n",
            "'Spørgeskama evaluering isul .gdoc'\n",
            "'Spørgeskema om SUF Århus.gform'\n",
            "'Spørgsmål til bogholder.gdoc'\n",
            "'☭🏴SRP🏴☭ '\n",
            " SSK-ansøgning.gdoc\n",
            "'SSK til ledelsen.gdoc'\n",
            "'Start af plan eksamen.gsheet'\n",
            " Statistik.gsheet\n",
            "'Status for Aktivitetsmødet 2018 pr 02-11-2018.docx'\n",
            "'Stemme 002.m4a'\n",
            "'stemme dokument 2021 til deling.docx'\n",
            "'Stem Ungt, Stem by- debatplan.gsheet'\n",
            "'Stem Ungt, Stem by .gsheet'\n",
            " Stillingsopslag.gdoc\n",
            "'Stil op til ledelsen.gdoc'\n",
            "'Stressede mig øvvvv sommeredition.gsheet'\n",
            " struggle.m4a\n",
            "'suf 20 år.gdoc'\n",
            "'suf århus 19 12 2018.gdoc'\n",
            "'SUF Århus 28 04 2021.gdoc'\n",
            "'suf århus 29 4.gdoc'\n",
            "'SUF Århus 9 6 2021.gdoc'\n",
            "'SUF Århus SSK WOOOOOW'\n",
            "'SUF LM til SAP Vest.gdoc'\n",
            "'SUF og bogholder.gdoc'\n",
            "'SUF og medlemssystem.docx'\n",
            "'SUF opslag ghettoplan.gdoc'\n",
            " suf.png\n",
            "\"SUF's eksterne repræsentanter.gdoc\"\n",
            "'SUF valgkamp 2018 2019'\n",
            "'Sulfathalløj og temperatur.gdoc'\n",
            "'Talen LM.gdoc'\n",
            " Talerlister_ref_SM23.gsheet\n",
            "'Tamaras rolle på ISUL.gdoc'\n",
            "'Tanker om nit-resultater.gsheet'\n",
            "'tekster til opslag.gdoc'\n",
            " Teoriafsnit.gdoc\n",
            " Teori_køreprøve_øvelser.gsheet\n",
            "'Thesis notes.gdoc'\n",
            "'Thesis order of frag lit.gdoc'\n",
            "'Thesis synopsis.gdoc'\n",
            "'Thesis text.gdoc'\n",
            "'Thesis update 31 3.gdoc'\n",
            "'Thesis update 8 3.gdoc'\n",
            "'Tid Sem 1 bioinf 7.gsheet'\n",
            "'Tid Sem 2 bioinf 8.gsheet'\n",
            "'Tid sem 3 bioinf sem 9.gsheet'\n",
            "'Tid sem 4 bioinf sem 10.gsheet'\n",
            "'Tid semester 3 agro.gsheet'\n",
            "'Tid semester 6.gsheet'\n",
            "'Tidsforbrug semester 2 wows.gsheet'\n",
            "'Til koo fra øko.gdoc'\n",
            "'Tilmeldning til ledelsesmøde 29. sep til 1. okt.gform'\n",
            "'Til nyhedsbrev.gdoc'\n",
            "'Til nyhedsbrev om forårsseminar.gdoc'\n",
            "'Til silas.gdoc'\n",
            "'Timeark 19 juhu.gsheet'\n",
            "'TIMEARK 2018.gsheet'\n",
            "'Timeoptælling 2018.gsheet'\n",
            " Timeoptælling2021.xlsx\n",
            "'timeoptælling RENSET ARK.gsheet'\n",
            "'Ting til GF.gdoc'\n",
            "'Ting til solidaritet.gdoc'\n",
            "'TØ genetik!!.gslides'\n",
            " Top_50_patches_in_landscapes_just_4.gsheet\n",
            "'tysk .m4a'\n",
            "'Udkast til mailsvar til revisor.gdoc'\n",
            "'Udkast til revisorudtalelsen EHL Århus 202.gdoc'\n",
            "'Udlæg under 2000.docx'\n",
            "'Udlæg under 2000.gdoc'\n",
            "'Udtalelse til Rød+Grøn.gdoc'\n",
            " Ugekommentar.gdoc\n",
            " Ugh.gsheet\n",
            "'Ungdomsskole 2019.gdoc'\n",
            "'Unsere Mütter, unsere Väter.gdoc'\n",
            "'Untitled document (1).gdoc'\n",
            "'Untitled document (2).gdoc'\n",
            "'Untitled document (3).gdoc'\n",
            "'Untitled document (4).gdoc'\n",
            "'Untitled document (5).gdoc'\n",
            "'Untitled document.gdoc'\n",
            "'Untitled drawing.gdraw'\n",
            "'Untitled form (1).gform'\n",
            "'Untitled form.gform'\n",
            "'Untitled presentation.gslides'\n",
            "'Untitled spreadsheet (1).gsheet'\n",
            "'Untitled spreadsheet (2).gsheet'\n",
            "'Untitled spreadsheet.gsheet'\n",
            "'Vækstkurve e-coli.gdoc'\n",
            "'Vedtægter SUF Trillegaarden .gdoc'\n",
            "'Vid afl 3.gdoc'\n",
            "'Vidafl. 4.gdoc'\n",
            "'Vidafl 5.gdoc'\n",
            "'videnskab afl 1.gdoc'\n",
            "'Videnskabsteori afl 6.gdoc'\n",
            "'Videnskabsteorihalløj 2.gdoc'\n",
            "'videnskabsteoriprojekt del 2 min del grrrr.gdoc'\n",
            "'Vi skal have en kasserer.gdoc'\n",
            " VoleMovement_diss_pArea.xlsx\n",
            "'What needs to be made connected improved 20 02.gdoc'\n",
            "'XR til bob.gdoc'\n",
            "'Zink!!.gslides'\n"
          ]
        }
      ],
      "source": [
        "!ls \"/content/gdrive/My Drive/\""
      ]
    },
    {
      "cell_type": "markdown",
      "metadata": {
        "id": "R4ZDe2rVHKUp"
      },
      "source": [
        "##Python\n",
        "Python is a high-level, dynamically typed multiparadigm programming language. Python code is often said to be almost like pseudocode, since it allows you to express very powerful ideas in very few lines of code while being very readable.\n",
        "\n",
        "There are currently two different supported versions of Python, 2 and 3. Somewhat confusingly, Python 3 introduced many backwards-incompatible changes to the language, so code written for 2 may not work under 3 and vice versa. For this class all code will use Python 3.\n",
        "\n",
        "You can check your Python version at the command line by running"
      ]
    },
    {
      "cell_type": "code",
      "execution_count": 4,
      "metadata": {
        "colab": {
          "base_uri": "https://localhost:8080/"
        },
        "id": "xpGIxaQnHq4f",
        "outputId": "33166427-9cf2-48c2-d1e7-cbe487390331"
      },
      "outputs": [
        {
          "output_type": "stream",
          "name": "stdout",
          "text": [
            "Python 3.12.11\n"
          ]
        }
      ],
      "source": [
        "!python --version"
      ]
    },
    {
      "cell_type": "markdown",
      "metadata": {
        "id": "8oRzYDp4H1Qg"
      },
      "source": [
        "### Basic data types\n",
        "Like most languages, Python has a number of basic types including integers, floats, booleans, and strings. These data types behave in ways that are familiar from other programming languages.\n",
        "\n",
        "**Numbers:** Integers and floats work as you would expect from other languages:"
      ]
    },
    {
      "cell_type": "code",
      "execution_count": 5,
      "metadata": {
        "colab": {
          "base_uri": "https://localhost:8080/"
        },
        "id": "Lnh721pNH9_v",
        "outputId": "5e685db4-52a0-4334-ab4a-04c4c4071a7c"
      },
      "outputs": [
        {
          "output_type": "stream",
          "name": "stdout",
          "text": [
            "<class 'int'>\n",
            "3\n",
            "4\n",
            "2\n",
            "6\n",
            "9\n",
            "4\n",
            "8\n",
            "<class 'float'>\n",
            "2.5 3.5 5.0 6.25\n"
          ]
        }
      ],
      "source": [
        "x = 3\n",
        "print(type(x)) # Prints \"<class 'int'>\"\n",
        "print(x)       # Prints \"3\"\n",
        "print(x + 1)   # Addition; prints \"4\"\n",
        "print(x - 1)   # Subtraction; prints \"2\"\n",
        "print(x * 2)   # Multiplication; prints \"6\"\n",
        "print(x ** 2)  # Exponentiation; prints \"9\"\n",
        "x += 1\n",
        "print(x)  # Prints \"4\"\n",
        "x *= 2\n",
        "print(x)  # Prints \"8\"\n",
        "y = 2.5\n",
        "print(type(y)) # Prints \"<class 'float'>\"\n",
        "print(y, y + 1, y * 2, y ** 2) # Prints \"2.5 3.5 5.0 6.25\""
      ]
    },
    {
      "cell_type": "markdown",
      "metadata": {
        "id": "VrTwnHLOIJQH"
      },
      "source": [
        "Note that unlike many languages, Python does not have unary increment (x++) or decrement (x--) operators.\n",
        "\n",
        "**Booleans:** Python implements all of the usual operators for Boolean logic, but uses English words rather than symbols (&&, ||, etc.):"
      ]
    },
    {
      "cell_type": "code",
      "execution_count": 6,
      "metadata": {
        "colab": {
          "base_uri": "https://localhost:8080/"
        },
        "id": "vn7mihFIIAgf",
        "outputId": "d6d21fc9-481c-4afe-f7c8-113435e1b989"
      },
      "outputs": [
        {
          "output_type": "stream",
          "name": "stdout",
          "text": [
            "<class 'bool'>\n",
            "False\n",
            "True\n",
            "False\n",
            "True\n"
          ]
        }
      ],
      "source": [
        "t = True\n",
        "f = False\n",
        "print(type(t)) # Prints \"<class 'bool'>\"\n",
        "print(t and f) # Logical AND; prints \"False\"\n",
        "print(t or f)  # Logical OR; prints \"True\"\n",
        "print(not t)   # Logical NOT; prints \"False\"\n",
        "print(t != f)  # Logical XOR; prints \"True\""
      ]
    },
    {
      "cell_type": "markdown",
      "metadata": {
        "id": "FvR2ZYHEIeeu"
      },
      "source": [
        "**Strings:** Python has great support for strings:"
      ]
    },
    {
      "cell_type": "code",
      "execution_count": 7,
      "metadata": {
        "colab": {
          "base_uri": "https://localhost:8080/"
        },
        "id": "ydLGSfMdIa1H",
        "outputId": "d870a6d0-f609-4a4f-90fe-0c4990178493"
      },
      "outputs": [
        {
          "output_type": "stream",
          "name": "stdout",
          "text": [
            "hello\n",
            "5\n",
            "hello world\n",
            "hello world 12\n"
          ]
        }
      ],
      "source": [
        "hello = 'hello'    # String literals can use single quotes\n",
        "world = \"world\"    # or double quotes; it does not matter.\n",
        "print(hello)       # Prints \"hello\"\n",
        "print(len(hello))  # String length; prints \"5\"\n",
        "hw = hello + ' ' + world  # String concatenation\n",
        "print(hw)  # prints \"hello world\"\n",
        "hw12 = '%s %s %d' % (hello, world, 12)  # sprintf style string formatting\n",
        "print(hw12)  # prints \"hello world 12\""
      ]
    },
    {
      "cell_type": "markdown",
      "metadata": {
        "id": "V9Ra5oepIoJn"
      },
      "source": [
        "String objects have a bunch of useful methods; for example:"
      ]
    },
    {
      "cell_type": "code",
      "execution_count": 8,
      "metadata": {
        "colab": {
          "base_uri": "https://localhost:8080/"
        },
        "id": "TIqDgbJTIjE-",
        "outputId": "6a108aaf-7234-46c9-936c-b6130342ceb2"
      },
      "outputs": [
        {
          "output_type": "stream",
          "name": "stdout",
          "text": [
            "Hello\n",
            "HELLO\n",
            "  hello\n",
            " hello \n",
            "he(ell)(ell)o\n",
            "world\n"
          ]
        }
      ],
      "source": [
        "s = \"hello\"\n",
        "print(s.capitalize())  # Capitalize a string; prints \"Hello\"\n",
        "print(s.upper())       # Convert a string to uppercase; prints \"HELLO\"\n",
        "print(s.rjust(7))      # Right-justify a string, padding with spaces; prints \"  hello\"\n",
        "print(s.center(7))     # Center a string, padding with spaces; prints \" hello \"\n",
        "print(s.replace('l', '(ell)'))  # Replace all instances of one substring with another;\n",
        "                                # prints \"he(ell)(ell)o\"\n",
        "print('  world '.strip())  # Strip leading and trailing whitespace; prints \"world\""
      ]
    },
    {
      "cell_type": "markdown",
      "metadata": {
        "id": "xE0VnvizIz3u"
      },
      "source": [
        "###Containers\n",
        "Python includes several built-in container types: lists, dictionaries, sets, and tuples.\n",
        "\n",
        "**Lists:** A list is the Python equivalent of an array, but is resizeable and can contain elements of different types:"
      ]
    },
    {
      "cell_type": "code",
      "execution_count": 31,
      "metadata": {
        "colab": {
          "base_uri": "https://localhost:8080/"
        },
        "id": "E7B_toQGIqsX",
        "outputId": "319a16a8-e027-4754-fc4f-5e594f9c7117"
      },
      "outputs": [
        {
          "output_type": "stream",
          "name": "stdout",
          "text": [
            "[3, 1, 2] 2\n",
            "2\n",
            "[3, 1, 'foo']\n",
            "[3, 1, 'foo', 'bar']\n",
            "bar [3, 1, 'foo']\n"
          ]
        }
      ],
      "source": [
        "xs = [3, 1, 2]    # Create a list\n",
        "print(xs, xs[2])  # Prints \"[3, 1, 2] 2\"\n",
        "print(xs[-1])     # Negative indices count from the end of the list; prints \"2\"\n",
        "xs[2] = 'foo'     # Lists can contain elements of different types\n",
        "print(xs)         # Prints \"[3, 1, 'foo']\"\n",
        "xs.append('bar')  # Add a new element to the end of the list\n",
        "print(xs)         # Prints \"[3, 1, 'foo', 'bar']\"\n",
        "x = xs.pop()      # Remove and return the last element of the list\n",
        "print(x, xs)      # Prints \"bar [3, 1, 'foo']\""
      ]
    },
    {
      "cell_type": "markdown",
      "metadata": {
        "id": "HHRwsD4DI9LW"
      },
      "source": [
        "**Slicing:** In addition to accessing list elements one at a time, Python provides concise syntax to access sublists; this is known as slicing:"
      ]
    },
    {
      "cell_type": "code",
      "execution_count": 21,
      "metadata": {
        "colab": {
          "base_uri": "https://localhost:8080/"
        },
        "id": "yQCkW-esI6X3",
        "outputId": "6805c6ad-2d56-4d68-8824-8c5f551de9ac"
      },
      "outputs": [
        {
          "output_type": "stream",
          "name": "stdout",
          "text": [
            "[0, 1, 2, 3, 4]\n",
            "[2, 3]\n",
            "[2, 3, 4]\n",
            "[0, 1]\n",
            "[0, 1, 2, 3, 4]\n",
            "[0, 1, 2, 3]\n",
            "[0, 1, 8, 9, 4]\n"
          ]
        }
      ],
      "source": [
        "nums = list(range(5))     # range is a built-in function that creates a list of integers\n",
        "print(nums)               # Prints \"[0, 1, 2, 3, 4]\"\n",
        "print(nums[2:4])          # Get a slice from index 2 to 4 (exclusive); prints \"[2, 3]\"\n",
        "print(nums[2:])           # Get a slice from index 2 to the end; prints \"[2, 3, 4]\"\n",
        "print(nums[:2])           # Get a slice from the start to index 2 (exclusive); prints \"[0, 1]\"\n",
        "print(nums[:])            # Get a slice of the whole list; prints \"[0, 1, 2, 3, 4]\"\n",
        "print(nums[:-1])          # Slice indices can be negative; prints \"[0, 1, 2, 3]\"\n",
        "nums[2:4] = [8, 9]        # Assign a new sublist to a slice\n",
        "print(nums)               # Prints \"[0, 1, 8, 9, 4]\""
      ]
    },
    {
      "cell_type": "markdown",
      "metadata": {
        "id": "8urcnDqnJGSH"
      },
      "source": [
        "We will see slicing again in the context of numpy arrays.\n",
        "\n",
        "**Loops:** You can loop over the elements of a list like this:"
      ]
    },
    {
      "cell_type": "code",
      "execution_count": 22,
      "metadata": {
        "colab": {
          "base_uri": "https://localhost:8080/"
        },
        "id": "8cxRTpmIJC9v",
        "outputId": "013b8760-4ae2-40d4-c4be-571e7fee4182"
      },
      "outputs": [
        {
          "output_type": "stream",
          "name": "stdout",
          "text": [
            "cat\n",
            "dog\n",
            "monkey\n"
          ]
        }
      ],
      "source": [
        "animals = ['cat', 'dog', 'monkey']\n",
        "for animal in animals:\n",
        "    print(animal)\n",
        "# Prints \"cat\", \"dog\", \"monkey\", each on its own line."
      ]
    },
    {
      "cell_type": "markdown",
      "metadata": {
        "id": "mEFB2Pf_JLIn"
      },
      "source": [
        "**The indentation is important:** It defines blocks of code. That is, lines of code with the same indentation belong to the same block. You can use either tabs or spaces for indentation, but you cannot use both within the same block. Don't worry, you will get used to it ;-)\n",
        "\n",
        "If you want access to the index of each element within the body of a loop, use the built-in enumerate function:"
      ]
    },
    {
      "cell_type": "code",
      "execution_count": 32,
      "metadata": {
        "colab": {
          "base_uri": "https://localhost:8080/"
        },
        "id": "8B2xz1_5JIuX",
        "outputId": "c7fcae17-2742-4cca-f3b3-809e2fdc14a6"
      },
      "outputs": [
        {
          "output_type": "stream",
          "name": "stdout",
          "text": [
            "#1: cat\n",
            "#2: dog\n",
            "#3: monkey\n"
          ]
        }
      ],
      "source": [
        "animals = ['cat', 'dog', 'monkey']\n",
        "for idx, animal in enumerate(animals):\n",
        "    print('#%d: %s' % (idx + 1, animal))\n",
        "# Prints \"#1: cat\", \"#2: dog\", \"#3: monkey\", each on its own line"
      ]
    },
    {
      "cell_type": "markdown",
      "metadata": {
        "id": "MU1_TlNOlcH6"
      },
      "source": [
        "There is of course also the good old-fashioned way:"
      ]
    },
    {
      "cell_type": "code",
      "execution_count": 33,
      "metadata": {
        "colab": {
          "base_uri": "https://localhost:8080/"
        },
        "id": "RiAtErgIll9D",
        "outputId": "248aa797-4295-4ec2-8170-bc56c0f32833"
      },
      "outputs": [
        {
          "output_type": "stream",
          "name": "stdout",
          "text": [
            "#1: cat\n",
            "#2: dog\n",
            "#3: monkey\n"
          ]
        }
      ],
      "source": [
        "animals = ['cat', 'dog', 'monkey']\n",
        "for idx in range(len(animals)):\n",
        "    animal = animals[idx]\n",
        "    print('#%d: %s' % (idx + 1, animal))\n",
        "# Prints \"#1: cat\", \"#2: dog\", \"#3: monkey\", each on its own line"
      ]
    },
    {
      "cell_type": "markdown",
      "metadata": {
        "id": "B7gPBFLGJPw9"
      },
      "source": [
        "**List comprehensions:** When programming, frequently we want to transform one type of data into another. As a simple example, consider the following code that computes square numbers:"
      ]
    },
    {
      "cell_type": "code",
      "execution_count": 34,
      "metadata": {
        "colab": {
          "base_uri": "https://localhost:8080/"
        },
        "id": "tVD2kYDsJNQR",
        "outputId": "ed22ce1c-7e4f-469b-ed60-7100227a2abe"
      },
      "outputs": [
        {
          "output_type": "stream",
          "name": "stdout",
          "text": [
            "[0, 1, 4, 9, 16]\n"
          ]
        }
      ],
      "source": [
        "nums = [0, 1, 2, 3, 4]\n",
        "squares = []\n",
        "for x in nums:\n",
        "    squares.append(x ** 2)\n",
        "print(squares)   # Prints [0, 1, 4, 9, 16]"
      ]
    },
    {
      "cell_type": "markdown",
      "metadata": {
        "id": "Qt053rYGJWwt"
      },
      "source": [
        "You can make this code simpler using a **list comprehension**:"
      ]
    },
    {
      "cell_type": "code",
      "execution_count": 35,
      "metadata": {
        "colab": {
          "base_uri": "https://localhost:8080/"
        },
        "id": "5tH-3pZXJVgv",
        "outputId": "52ee6044-dc18-43e8-ef5f-9c2ca54cb7fb"
      },
      "outputs": [
        {
          "output_type": "stream",
          "name": "stdout",
          "text": [
            "[0, 1, 4, 9, 16]\n"
          ]
        }
      ],
      "source": [
        "nums = [0, 1, 2, 3, 4]\n",
        "squares = [x ** 2 for x in nums]\n",
        "print(squares)   # Prints [0, 1, 4, 9, 16]"
      ]
    },
    {
      "cell_type": "markdown",
      "metadata": {
        "id": "ff-eXek_Jc8m"
      },
      "source": [
        "**Dictionaries:** A dictionary stores (key, value) pairs, similar to a Map in Java or an object in Javascript. You can use it like this:"
      ]
    },
    {
      "cell_type": "code",
      "execution_count": 36,
      "metadata": {
        "colab": {
          "base_uri": "https://localhost:8080/"
        },
        "id": "Zl3sSbxXJbQO",
        "outputId": "7c72f999-0910-4f6d-baac-b4864b2f4b84"
      },
      "outputs": [
        {
          "output_type": "stream",
          "name": "stdout",
          "text": [
            "cute\n",
            "True\n",
            "wet\n",
            "N/A\n",
            "wet\n",
            "N/A\n"
          ]
        }
      ],
      "source": [
        "d = {'cat': 'cute', 'dog': 'furry'}  # Create a new dictionary with some data\n",
        "print(d['cat'])       # Get an entry from a dictionary; prints \"cute\"\n",
        "print('cat' in d)     # Check if a dictionary has a given key; prints \"True\"\n",
        "d['fish'] = 'wet'     # Set an entry in a dictionary\n",
        "print(d['fish'])      # Prints \"wet\"\n",
        "# print(d['monkey'])  # KeyError: 'monkey' not a key of d\n",
        "print(d.get('monkey', 'N/A'))  # Get an element with a default; prints \"N/A\"\n",
        "print(d.get('fish', 'N/A'))    # Get an element with a default; prints \"wet\"\n",
        "del d['fish']         # Remove an element from a dictionary\n",
        "print(d.get('fish', 'N/A')) # \"fish\" is no longer a key; prints \"N/A\""
      ]
    },
    {
      "cell_type": "markdown",
      "metadata": {
        "id": "Ds3RtELlJnKH"
      },
      "source": [
        "**Loops:** It is easy to iterate over the keys in a dictionary:"
      ]
    },
    {
      "cell_type": "code",
      "execution_count": 28,
      "metadata": {
        "colab": {
          "base_uri": "https://localhost:8080/"
        },
        "id": "zTKmnBWJJkPw",
        "outputId": "8f92d046-6905-4439-ddb5-cbe51dc5089f"
      },
      "outputs": [
        {
          "output_type": "stream",
          "name": "stdout",
          "text": [
            "A person has 2 legs\n",
            "A cat has 4 legs\n",
            "A spider has 8 legs\n"
          ]
        }
      ],
      "source": [
        "d = {'person': 2, 'cat': 4, 'spider': 8}\n",
        "for animal in d:\n",
        "    legs = d[animal]\n",
        "    print('A %s has %d legs' % (animal, legs))\n",
        "# Prints \"A person has 2 legs\", \"A cat has 4 legs\", \"A spider has 8 legs\""
      ]
    },
    {
      "cell_type": "markdown",
      "metadata": {
        "id": "boDZUymqJuOm"
      },
      "source": [
        "If you want access to keys and their corresponding values, use the items method:"
      ]
    },
    {
      "cell_type": "code",
      "execution_count": 29,
      "metadata": {
        "colab": {
          "base_uri": "https://localhost:8080/"
        },
        "id": "b9gKsgs8Jran",
        "outputId": "f159a3d3-faa6-4bc1-90a4-99c6d82edc13"
      },
      "outputs": [
        {
          "output_type": "stream",
          "name": "stdout",
          "text": [
            "{0: 0, 2: 4, 4: 16}\n"
          ]
        }
      ],
      "source": [
        "nums = [0, 1, 2, 3, 4]\n",
        "even_num_to_square = {x: x ** 2 for x in nums if x % 2 == 0}\n",
        "print(even_num_to_square)  # Prints \"{0: 0, 2: 4, 4: 16}\""
      ]
    },
    {
      "cell_type": "markdown",
      "metadata": {
        "id": "1KRIDdGSJ36W"
      },
      "source": [
        "**Tuples:** A tuple is an (immutable) ordered list of values. A tuple is in many ways similar to a list; one of the most important differences is that tuples can be used as keys in dictionaries and as elements of sets, while lists cannot. Here is a trivial example:"
      ]
    },
    {
      "cell_type": "code",
      "execution_count": 37,
      "metadata": {
        "colab": {
          "base_uri": "https://localhost:8080/"
        },
        "id": "HsOsWs21JyK3",
        "outputId": "b0b02e73-108c-4447-cf4f-d2060bcd9333"
      },
      "outputs": [
        {
          "output_type": "stream",
          "name": "stdout",
          "text": [
            "<class 'tuple'>\n",
            "5\n",
            "1\n"
          ]
        }
      ],
      "source": [
        "d = {(x, x + 1): x for x in range(10)}  # Create a dictionary with tuple keys\n",
        "t = (5, 6)        # Create a tuple\n",
        "print(type(t))    # Prints \"<class 'tuple'>\"\n",
        "print(d[t])       # Prints \"5\"\n",
        "print(d[(1, 2)])  # Prints \"1\""
      ]
    },
    {
      "cell_type": "markdown",
      "metadata": {
        "id": "O2XE6JYNKdgH"
      },
      "source": [
        "### Functions\n",
        "Python functions are defined using the def keyword. For example:"
      ]
    },
    {
      "cell_type": "code",
      "execution_count": 40,
      "metadata": {
        "colab": {
          "base_uri": "https://localhost:8080/"
        },
        "id": "PVzN64-gJ60v",
        "outputId": "98e6e661-a49c-4a74-a7d3-6041f90a8721"
      },
      "outputs": [
        {
          "output_type": "stream",
          "name": "stdout",
          "text": [
            "negative\n",
            "zero\n",
            "positive\n"
          ]
        }
      ],
      "source": [
        "def sign(x):\n",
        "    if x > 0:\n",
        "        return 'positive'\n",
        "    elif x < 0:\n",
        "        return 'negative'\n",
        "    else:\n",
        "        return 'zero'\n",
        "\n",
        "for x in [-1, 0, 1]:\n",
        "    print(sign(x))\n",
        "# Prints \"negative\", \"zero\", \"positive\""
      ]
    },
    {
      "cell_type": "markdown",
      "metadata": {
        "id": "7txkZNgeKn5F"
      },
      "source": [
        "We will often define functions to take optional keyword arguments, like this:"
      ]
    },
    {
      "cell_type": "code",
      "execution_count": 41,
      "metadata": {
        "colab": {
          "base_uri": "https://localhost:8080/"
        },
        "id": "CHIli5aDKmRY",
        "outputId": "0a15abca-3836-4f0e-9ee3-4f7c7db31c3a"
      },
      "outputs": [
        {
          "output_type": "stream",
          "name": "stdout",
          "text": [
            "Hello, Bob\n",
            "HELLO, FRED!\n"
          ]
        }
      ],
      "source": [
        "def hello(name, loud=False):\n",
        "    if loud:\n",
        "        print('HELLO, %s!' % name.upper())\n",
        "    else:\n",
        "        print('Hello, %s' % name)\n",
        "\n",
        "hello('Bob') # Prints \"Hello, Bob\"\n",
        "hello('Fred', loud=True)  # Prints \"HELLO, FRED!\""
      ]
    },
    {
      "cell_type": "markdown",
      "metadata": {
        "id": "0k7NUMeRKzZ9"
      },
      "source": [
        "### Classes\n",
        "The syntax for defining classes in Python is straightforward:"
      ]
    },
    {
      "cell_type": "code",
      "execution_count": null,
      "metadata": {
        "id": "sgzDbYBuKu0e"
      },
      "outputs": [],
      "source": [
        "class Greeter(object):\n",
        "\n",
        "    # Constructor\n",
        "    def __init__(self, name):\n",
        "        self.name = name  # Create an instance variable\n",
        "\n",
        "    # Instance method\n",
        "    def greet(self, loud=False):\n",
        "        if loud:\n",
        "            print('HELLO, %s!' % self.name.upper())\n",
        "        else:\n",
        "            print('Hello, %s' % self.name)\n",
        "\n",
        "g = Greeter('Fred')  # Construct an instance of the Greeter class\n",
        "g.greet()            # Call an instance method; prints \"Hello, Fred\"\n",
        "g.greet(loud=True)   # Call an instance method; prints \"HELLO, FRED!\""
      ]
    },
    {
      "cell_type": "markdown",
      "metadata": {
        "id": "2IyWpwOOLF89"
      },
      "source": [
        "## Numpy\n",
        "Numpy is the core library for scientific computing in Python. It provides a high-performance multidimensional array object, and tools for working with these arrays.\n",
        "\n",
        "### Arrays\n",
        "A numpy array is a grid of values, all of the same type, and is indexed by a tuple of nonnegative integers. The number of dimensions is the rank of the array; the shape of an array is a tuple of integers giving the size of the array along each dimension.\n",
        "\n",
        "We can initialize numpy arrays from nested Python lists, and access elements using square brackets:"
      ]
    },
    {
      "cell_type": "code",
      "execution_count": 2,
      "metadata": {
        "colab": {
          "base_uri": "https://localhost:8080/"
        },
        "id": "s9o1RorzK2Y_",
        "outputId": "a9d3fa22-f77d-4001-a914-da6104f48197"
      },
      "outputs": [
        {
          "output_type": "stream",
          "name": "stdout",
          "text": [
            "<class 'numpy.ndarray'>\n",
            "(3,)\n",
            "1 2 3\n",
            "[5 2 3]\n",
            "(2, 3)\n",
            "1 2 4\n"
          ]
        }
      ],
      "source": [
        "import numpy as np\n",
        "\n",
        "a = np.array([1, 2, 3])   # Create a rank 1 array\n",
        "print(type(a))            # Prints \"<class 'numpy.ndarray'>\"\n",
        "print(a.shape)            # Prints \"(3,)\"\n",
        "print(a[0], a[1], a[2])   # Prints \"1 2 3\"\n",
        "a[0] = 5                  # Change an element of the array\n",
        "print(a)                  # Prints \"[5, 2, 3]\"\n",
        "\n",
        "b = np.array([[1,2,3],[4,5,6]])    # Create a rank 2 array\n",
        "print(b.shape)                     # Prints \"(2, 3)\"\n",
        "print(b[0, 0], b[0, 1], b[1, 0])   # Prints \"1 2 4\""
      ]
    },
    {
      "cell_type": "markdown",
      "metadata": {
        "id": "L2z4JCPtLWKu"
      },
      "source": [
        "Numpy also provides many functions to create arrays:"
      ]
    },
    {
      "cell_type": "code",
      "execution_count": 3,
      "metadata": {
        "colab": {
          "base_uri": "https://localhost:8080/"
        },
        "id": "XYI9NP6JLTlb",
        "outputId": "d1d7d122-354b-4fe8-ad59-82e6157796e3"
      },
      "outputs": [
        {
          "output_type": "stream",
          "name": "stdout",
          "text": [
            "[[0. 0.]\n",
            " [0. 0.]]\n",
            "[[1. 1.]]\n",
            "[[7 7]\n",
            " [7 7]]\n",
            "[[1. 0.]\n",
            " [0. 1.]]\n",
            "[[0.26508461 0.56181521]\n",
            " [0.30893254 0.49378082]]\n"
          ]
        }
      ],
      "source": [
        "a = np.zeros((2,2))   # Create an array of all zeros\n",
        "print(a)              # Prints \"[[ 0.  0.]\n",
        "                      #          [ 0.  0.]]\"\n",
        "\n",
        "b = np.ones((1,2))    # Create an array of all ones\n",
        "print(b)              # Prints \"[[ 1.  1.]]\"\n",
        "\n",
        "c = np.full((2,2), 7)  # Create a constant array\n",
        "print(c)               # Prints \"[[ 7.  7.]\n",
        "                       #          [ 7.  7.]]\"\n",
        "\n",
        "d = np.eye(2)         # Create a 2x2 identity matrix\n",
        "print(d)              # Prints \"[[ 1.  0.]\n",
        "                      #          [ 0.  1.]]\"\n",
        "\n",
        "e = np.random.random((2,2))  # Create an array filled with random values\n",
        "print(e)                     # Might print \"[[ 0.91940167  0.08143941]\n",
        "                             #               [ 0.68744134  0.87236687]]\""
      ]
    },
    {
      "cell_type": "markdown",
      "metadata": {
        "id": "FeZINNwbLdou"
      },
      "source": [
        "### Array indexing\n",
        "Numpy offers several ways to index into arrays.\n",
        "\n",
        "**Slicing:** Similar to Python lists, numpy arrays can be sliced. Since arrays may be multidimensional, you must specify a slice for each dimension of the array:"
      ]
    },
    {
      "cell_type": "code",
      "execution_count": 4,
      "metadata": {
        "colab": {
          "base_uri": "https://localhost:8080/"
        },
        "id": "fvl9FwslLZcv",
        "outputId": "7cb7316c-772d-49fd-96de-fd951f0289c9"
      },
      "outputs": [
        {
          "output_type": "stream",
          "name": "stdout",
          "text": [
            "2\n",
            "77\n"
          ]
        }
      ],
      "source": [
        "# Create the following rank 2 array with shape (3, 4)\n",
        "# [[ 1  2  3  4]\n",
        "#  [ 5  6  7  8]\n",
        "#  [ 9 10 11 12]]\n",
        "a = np.array([[1,2,3,4], [5,6,7,8], [9,10,11,12]])\n",
        "\n",
        "# Use slicing to pull out the subarray consisting of the first 2 rows\n",
        "# and columns 1 and 2; b is the following array of shape (2, 2):\n",
        "# [[2 3]\n",
        "#  [6 7]]\n",
        "b = a[:2, 1:3]\n",
        "\n",
        "# A slice of an array is a view into the same data, so modifying it\n",
        "# will modify the original array.\n",
        "print(a[0, 1])   # Prints \"2\"\n",
        "b[0, 0] = 77     # b[0, 0] is the same piece of data as a[0, 1]\n",
        "print(a[0, 1])   # Prints \"77\""
      ]
    },
    {
      "cell_type": "markdown",
      "metadata": {
        "id": "aPHBRKLWLpoG"
      },
      "source": [
        "You can also mix integer indexing with slice indexing. However, doing so will yield an array of lower rank than the original array:"
      ]
    },
    {
      "cell_type": "code",
      "execution_count": 5,
      "metadata": {
        "colab": {
          "base_uri": "https://localhost:8080/"
        },
        "id": "_r3eWleMLjy3",
        "outputId": "75b242e2-4041-442a-ab43-bba0170fc437"
      },
      "outputs": [
        {
          "output_type": "stream",
          "name": "stdout",
          "text": [
            "[5 6 7 8] (4,)\n",
            "[[5 6 7 8]] (1, 4)\n",
            "[ 2  6 10] (3,)\n",
            "[[ 2]\n",
            " [ 6]\n",
            " [10]] (3, 1)\n"
          ]
        }
      ],
      "source": [
        "# Create the following rank 2 array with shape (3, 4)\n",
        "# [[ 1  2  3  4]\n",
        "#  [ 5  6  7  8]\n",
        "#  [ 9 10 11 12]]\n",
        "a = np.array([[1,2,3,4], [5,6,7,8], [9,10,11,12]])\n",
        "\n",
        "# Two ways of accessing the data in the middle row of the array.\n",
        "# Mixing integer indexing with slices yields an array of lower rank,\n",
        "# while using only slices yields an array of the same rank as the\n",
        "# original array:\n",
        "row_r1 = a[1, :]    # Rank 1 view of the second row of a\n",
        "row_r2 = a[1:2, :]  # Rank 2 view of the second row of a\n",
        "print(row_r1, row_r1.shape)  # Prints \"[5 6 7 8] (4,)\"\n",
        "print(row_r2, row_r2.shape)  # Prints \"[[5 6 7 8]] (1, 4)\"\n",
        "\n",
        "# We can make the same distinction when accessing columns of an array:\n",
        "col_r1 = a[:, 1]\n",
        "col_r2 = a[:, 1:2]\n",
        "print(col_r1, col_r1.shape)  # Prints \"[ 2  6 10] (3,)\"\n",
        "print(col_r2, col_r2.shape)  # Prints \"[[ 2]\n",
        "                             #          [ 6]\n",
        "                             #          [10]] (3, 1)\""
      ]
    },
    {
      "cell_type": "markdown",
      "metadata": {
        "id": "2vhUALs-LyOe"
      },
      "source": [
        "**Integer array indexing:** When you index into numpy arrays using slicing, the resulting array view will always be a subarray of the original array. In contrast, integer array indexing allows you to construct arbitrary arrays using the data from another array. Here is an example:"
      ]
    },
    {
      "cell_type": "code",
      "execution_count": 6,
      "metadata": {
        "colab": {
          "base_uri": "https://localhost:8080/"
        },
        "id": "QKO_27_RLu5_",
        "outputId": "d3971f29-c52d-4a98-a41d-7efbc95a8523"
      },
      "outputs": [
        {
          "output_type": "stream",
          "name": "stdout",
          "text": [
            "[1 4 5]\n",
            "[1 4 5]\n",
            "[2 2]\n",
            "[2 2]\n"
          ]
        }
      ],
      "source": [
        "a = np.array([[1,2], [3, 4], [5, 6]])\n",
        "\n",
        "# An example of integer array indexing.\n",
        "# The returned array will have shape (3,) and\n",
        "print(a[[0, 1, 2], [0, 1, 0]])  # Prints \"[1 4 5]\"\n",
        "\n",
        "# The above example of integer array indexing is equivalent to this:\n",
        "print(np.array([a[0, 0], a[1, 1], a[2, 0]]))  # Prints \"[1 4 5]\"\n",
        "\n",
        "# When using integer array indexing, you can reuse the same\n",
        "# element from the source array:\n",
        "print(a[[0, 0], [1, 1]])  # Prints \"[2 2]\"\n",
        "\n",
        "# Equivalent to the previous integer array indexing example\n",
        "print(np.array([a[0, 1], a[0, 1]]))  # Prints \"[2 2]\""
      ]
    },
    {
      "cell_type": "markdown",
      "metadata": {
        "id": "mikKxD5pL3nW"
      },
      "source": [
        "One useful trick with integer array indexing is selecting or mutating one element from each row of a matrix:"
      ]
    },
    {
      "cell_type": "code",
      "execution_count": 7,
      "metadata": {
        "colab": {
          "base_uri": "https://localhost:8080/"
        },
        "id": "9amg_dAuL1bw",
        "outputId": "26f8ac25-d15f-4674-97a8-0d9fc02146e8"
      },
      "outputs": [
        {
          "output_type": "stream",
          "name": "stdout",
          "text": [
            "[[ 1  2  3]\n",
            " [ 4  5  6]\n",
            " [ 7  8  9]\n",
            " [10 11 12]]\n",
            "[ 1  6  7 11]\n",
            "[[11  2  3]\n",
            " [ 4  5 16]\n",
            " [17  8  9]\n",
            " [10 21 12]]\n"
          ]
        }
      ],
      "source": [
        "# Create a new array from which we will select elements\n",
        "a = np.array([[1,2,3], [4,5,6], [7,8,9], [10, 11, 12]])\n",
        "\n",
        "print(a)  # prints \"array([[ 1,  2,  3],\n",
        "          #                [ 4,  5,  6],\n",
        "          #                [ 7,  8,  9],\n",
        "          #                [10, 11, 12]])\"\n",
        "\n",
        "# Create an array of indices\n",
        "b = np.array([0, 2, 0, 1])\n",
        "\n",
        "# Select one element from each row of a using the indices in b\n",
        "print(a[np.arange(4), b])  # Prints \"[ 1  6  7 11]\"\n",
        "\n",
        "# Mutate one element from each row of a using the indices in b\n",
        "a[np.arange(4), b] += 10\n",
        "\n",
        "print(a)  # prints \"array([[11,  2,  3],\n",
        "          #                [ 4,  5, 16],\n",
        "          #                [17,  8,  9],\n",
        "          #                [10, 21, 12]])"
      ]
    },
    {
      "cell_type": "markdown",
      "metadata": {
        "id": "RG8cQrgXL94O"
      },
      "source": [
        "**Boolean array indexing:** Boolean array indexing lets you pick out arbitrary elements of an array. Frequently this type of indexing is used to select the elements of an array that satisfy some condition. Here is an example:"
      ]
    },
    {
      "cell_type": "code",
      "execution_count": 8,
      "metadata": {
        "colab": {
          "base_uri": "https://localhost:8080/"
        },
        "id": "3hkCqWyZL53A",
        "outputId": "2887ed4a-f999-4d21-8a32-b09009987b40"
      },
      "outputs": [
        {
          "output_type": "stream",
          "name": "stdout",
          "text": [
            "[[False False]\n",
            " [ True  True]\n",
            " [ True  True]]\n",
            "[3 4 5 6]\n",
            "[3 4 5 6]\n"
          ]
        }
      ],
      "source": [
        "a = np.array([[1,2], [3, 4], [5, 6]])\n",
        "\n",
        "bool_idx = (a > 2)   # Find the elements of a that are bigger than 2;\n",
        "                     # this returns a numpy array of Booleans of the same\n",
        "                     # shape as a, where each slot of bool_idx tells\n",
        "                     # whether that element of a is > 2.\n",
        "\n",
        "print(bool_idx)      # Prints \"[[False False]\n",
        "                     #          [ True  True]\n",
        "                     #          [ True  True]]\"\n",
        "\n",
        "# We use boolean array indexing to construct a rank 1 array\n",
        "# consisting of the elements of a corresponding to the True values\n",
        "# of bool_idx\n",
        "print(a[bool_idx])  # Prints \"[3 4 5 6]\"\n",
        "\n",
        "# We can do all of the above in a single concise statement:\n",
        "print(a[a > 2])     # Prints \"[3 4 5 6]\""
      ]
    },
    {
      "cell_type": "markdown",
      "metadata": {
        "id": "68KTBZCuMHWO"
      },
      "source": [
        "### Datatypes\n",
        "Every numpy array is a grid of elements of the same type. Numpy provides a large set of numeric datatypes that you can use to construct arrays. Numpy tries to guess a datatype when you create an array, but functions that construct arrays usually also include an optional argument to explicitly specify the datatype. Here is an example:"
      ]
    },
    {
      "cell_type": "code",
      "execution_count": 9,
      "metadata": {
        "colab": {
          "base_uri": "https://localhost:8080/"
        },
        "id": "8MbwWL2_MCL3",
        "outputId": "646b911d-a7d3-4a3f-9cfe-cb8f1d10cb94"
      },
      "outputs": [
        {
          "output_type": "stream",
          "name": "stdout",
          "text": [
            "int64\n",
            "float64\n",
            "int64\n"
          ]
        }
      ],
      "source": [
        "x = np.array([1, 2])   # Let numpy choose the datatype\n",
        "print(x.dtype)         # Prints \"int64\"\n",
        "\n",
        "x = np.array([1.0, 2.0])   # Let numpy choose the datatype\n",
        "print(x.dtype)             # Prints \"float64\"\n",
        "\n",
        "x = np.array([1, 2], dtype=np.int64)   # Force a particular datatype\n",
        "print(x.dtype)                         # Prints \"int64\""
      ]
    },
    {
      "cell_type": "markdown",
      "metadata": {
        "id": "PNS3LfqgMOAG"
      },
      "source": [
        "### Array math\n",
        "Basic mathematical functions operate elementwise on arrays, and are available both as operator overloads and as functions in the numpy module:"
      ]
    },
    {
      "cell_type": "code",
      "execution_count": 10,
      "metadata": {
        "colab": {
          "base_uri": "https://localhost:8080/"
        },
        "id": "PHrc1XjJMLgY",
        "outputId": "f8071a4e-f1de-4b7a-b46b-7de6e943ce29"
      },
      "outputs": [
        {
          "output_type": "stream",
          "name": "stdout",
          "text": [
            "[[ 6.  8.]\n",
            " [10. 12.]]\n",
            "[[ 6.  8.]\n",
            " [10. 12.]]\n",
            "[[-4. -4.]\n",
            " [-4. -4.]]\n",
            "[[-4. -4.]\n",
            " [-4. -4.]]\n",
            "[[ 5. 12.]\n",
            " [21. 32.]]\n",
            "[[ 5. 12.]\n",
            " [21. 32.]]\n",
            "[[0.2        0.33333333]\n",
            " [0.42857143 0.5       ]]\n",
            "[[0.2        0.33333333]\n",
            " [0.42857143 0.5       ]]\n",
            "[[1.         1.41421356]\n",
            " [1.73205081 2.        ]]\n"
          ]
        }
      ],
      "source": [
        "x = np.array([[1,2],[3,4]], dtype=np.float64)\n",
        "y = np.array([[5,6],[7,8]], dtype=np.float64)\n",
        "\n",
        "# Elementwise sum; both produce the array\n",
        "# [[ 6.0  8.0]\n",
        "#  [10.0 12.0]]\n",
        "print(x + y)\n",
        "print(np.add(x, y))\n",
        "\n",
        "# Elementwise difference; both produce the array\n",
        "# [[-4.0 -4.0]\n",
        "#  [-4.0 -4.0]]\n",
        "print(x - y)\n",
        "print(np.subtract(x, y))\n",
        "\n",
        "# Elementwise product; both produce the array\n",
        "# [[ 5.0 12.0]\n",
        "#  [21.0 32.0]]\n",
        "print(x * y)\n",
        "print(np.multiply(x, y))\n",
        "\n",
        "# Elementwise division; both produce the array\n",
        "# [[ 0.2         0.33333333]\n",
        "#  [ 0.42857143  0.5       ]]\n",
        "print(x / y)\n",
        "print(np.divide(x, y))\n",
        "\n",
        "# Elementwise square root; produces the array\n",
        "# [[ 1.          1.41421356]\n",
        "#  [ 1.73205081  2.        ]]\n",
        "print(np.sqrt(x))"
      ]
    },
    {
      "cell_type": "markdown",
      "metadata": {
        "id": "QcxjxMR6MX7-"
      },
      "source": [
        "Note that unlike MATLAB, * is elementwise multiplication, not matrix multiplication. We instead use the dot function to compute inner products of vectors, to multiply a vector by a matrix, and to multiply matrices. dot is available both as a function in the numpy module and as an instance method of array objects:"
      ]
    },
    {
      "cell_type": "code",
      "execution_count": 14,
      "metadata": {
        "colab": {
          "base_uri": "https://localhost:8080/"
        },
        "id": "vWUN4Q57MTEv",
        "outputId": "1053aa7e-5d8f-4796-9caf-42cffcc7ce4c"
      },
      "outputs": [
        {
          "output_type": "stream",
          "name": "stdout",
          "text": [
            "219\n",
            "219\n",
            "[29 67]\n",
            "[29 67]\n",
            "[[19 22]\n",
            " [43 50]]\n",
            "[[19 22]\n",
            " [43 50]]\n"
          ]
        }
      ],
      "source": [
        "x = np.array([[1,2],[3,4]])\n",
        "y = np.array([[5,6],[7,8]])\n",
        "\n",
        "v = np.array([9,10])\n",
        "w = np.array([11, 12])\n",
        "\n",
        "# Inner product of vectors; both produce 219\n",
        "print(v.dot(w))\n",
        "print(np.dot(v, w))\n",
        "\n",
        "# Matrix / vector product; both produce the rank 1 array [29 67]\n",
        "print(x.dot(v))\n",
        "print(np.dot(x, v))\n",
        "\n",
        "# Matrix / matrix product; both produce the rank 2 array\n",
        "# [[19 22]\n",
        "#  [43 50]]\n",
        "print(x.dot(y))\n",
        "print(np.dot(x, y))"
      ]
    },
    {
      "cell_type": "markdown",
      "metadata": {
        "id": "7PUegPOuMd4P"
      },
      "source": [
        "Numpy provides many useful functions for performing computations on arrays; one of the most useful is sum:"
      ]
    },
    {
      "cell_type": "code",
      "execution_count": 15,
      "metadata": {
        "colab": {
          "base_uri": "https://localhost:8080/"
        },
        "id": "J2qLBKHQMawY",
        "outputId": "6dbf36ff-fc84-4a99-e7b9-5c6c1d1eb8de"
      },
      "outputs": [
        {
          "output_type": "stream",
          "name": "stdout",
          "text": [
            "10\n",
            "[4 6]\n",
            "[3 7]\n"
          ]
        }
      ],
      "source": [
        "x = np.array([[1,2],[3,4]])\n",
        "\n",
        "print(np.sum(x))  # Compute sum of all elements; prints \"10\"\n",
        "print(np.sum(x, axis=0))  # Compute sum of each column; prints \"[4 6]\"\n",
        "print(np.sum(x, axis=1))  # Compute sum of each row; prints \"[3 7]\""
      ]
    },
    {
      "cell_type": "markdown",
      "metadata": {
        "id": "_65bDwT-MjEO"
      },
      "source": [
        "Apart from computing mathematical functions using arrays, we frequently need to reshape or otherwise manipulate data in arrays. The simplest example of this type of operation is transposing a matrix; to transpose a matrix, simply use the T attribute of an array object:"
      ]
    },
    {
      "cell_type": "code",
      "execution_count": 16,
      "metadata": {
        "colab": {
          "base_uri": "https://localhost:8080/"
        },
        "id": "jeNHEZUGMgAx",
        "outputId": "20321c6b-5f6b-46b3-8a05-04cb024a1d72"
      },
      "outputs": [
        {
          "output_type": "stream",
          "name": "stdout",
          "text": [
            "[[1 2]\n",
            " [3 4]]\n",
            "[[1 3]\n",
            " [2 4]]\n",
            "[1 2 3]\n",
            "[1 2 3]\n"
          ]
        }
      ],
      "source": [
        "x = np.array([[1,2], [3,4]])\n",
        "print(x)    # Prints \"[[1 2]\n",
        "            #          [3 4]]\"\n",
        "print(x.T)  # Prints \"[[1 3]\n",
        "            #          [2 4]]\"\n",
        "\n",
        "# Note that taking the transpose of a rank 1 array does nothing:\n",
        "v = np.array([1,2,3])\n",
        "print(v)    # Prints \"[1 2 3]\"\n",
        "print(v.T)  # Prints \"[1 2 3]\""
      ]
    },
    {
      "cell_type": "markdown",
      "metadata": {
        "id": "pm-o7tYSMo-e"
      },
      "source": [
        "### Broadcasting\n",
        "Broadcasting is a powerful mechanism that allows numpy to work with arrays of different shapes when performing arithmetic operations. Frequently we have a smaller array and a larger array, and we want to use the smaller array multiple times to perform some operation on the larger array.\n",
        "\n",
        "For example, suppose that we want to add a constant vector to each row of a matrix. We could do it like this:"
      ]
    },
    {
      "cell_type": "code",
      "execution_count": 17,
      "metadata": {
        "colab": {
          "base_uri": "https://localhost:8080/"
        },
        "id": "OZi7KsdhMlvH",
        "outputId": "3ae2bbec-efbf-42bb-a9c4-54731b9fb7fb"
      },
      "outputs": [
        {
          "output_type": "stream",
          "name": "stdout",
          "text": [
            "[[ 2  2  4]\n",
            " [ 5  5  7]\n",
            " [ 8  8 10]\n",
            " [11 11 13]]\n"
          ]
        }
      ],
      "source": [
        "# We will add the vector v to each row of the matrix x,\n",
        "# storing the result in the matrix y\n",
        "x = np.array([[1,2,3], [4,5,6], [7,8,9], [10, 11, 12]])\n",
        "v = np.array([1, 0, 1])\n",
        "y = np.empty_like(x)   # Create an empty matrix with the same shape as x\n",
        "\n",
        "# Add the vector v to each row of the matrix x with an explicit loop\n",
        "for i in range(4):\n",
        "    y[i, :] = x[i, :] + v\n",
        "\n",
        "# Now y is the following\n",
        "# [[ 2  2  4]\n",
        "#  [ 5  5  7]\n",
        "#  [ 8  8 10]\n",
        "#  [11 11 13]]\n",
        "print(y)"
      ]
    },
    {
      "cell_type": "markdown",
      "metadata": {
        "id": "e9eC0A6yMv9A"
      },
      "source": [
        "This works; however when the matrix x is very large, computing an explicit loop in Python could be slow. Note that adding the vector v to each row of the matrix x is equivalent to forming a matrix vv by stacking multiple copies of v vertically, then performing elementwise summation of x and vv. We could implement this approach like this:"
      ]
    },
    {
      "cell_type": "code",
      "execution_count": null,
      "metadata": {
        "id": "kt6KvuLmMtCH"
      },
      "outputs": [],
      "source": [
        "# We will add the vector v to each row of the matrix x,\n",
        "# storing the result in the matrix y\n",
        "x = np.array([[1,2,3], [4,5,6], [7,8,9], [10, 11, 12]])\n",
        "v = np.array([1, 0, 1])\n",
        "vv = np.tile(v, (4, 1))   # Stack 4 copies of v on top of each other\n",
        "print(vv)                 # Prints \"[[1 0 1]\n",
        "                          #          [1 0 1]\n",
        "                          #          [1 0 1]\n",
        "                          #          [1 0 1]]\"\n",
        "y = x + vv  # Add x and vv elementwise\n",
        "print(y)  # Prints \"[[ 2  2  4\n",
        "          #          [ 5  5  7]\n",
        "          #          [ 8  8 10]\n",
        "          #          [11 11 13]]\""
      ]
    },
    {
      "cell_type": "markdown",
      "metadata": {
        "id": "jWaRzfEZM2vQ"
      },
      "source": [
        "Numpy broadcasting allows us to perform this computation without actually creating multiple copies of v. Consider this version, using broadcasting:"
      ]
    },
    {
      "cell_type": "code",
      "execution_count": 18,
      "metadata": {
        "colab": {
          "base_uri": "https://localhost:8080/"
        },
        "id": "byf5lgZgMyyv",
        "outputId": "28852872-08a8-4415-d34a-98d6c7502e3a"
      },
      "outputs": [
        {
          "output_type": "stream",
          "name": "stdout",
          "text": [
            "[[ 2  2  4]\n",
            " [ 5  5  7]\n",
            " [ 8  8 10]\n",
            " [11 11 13]]\n"
          ]
        }
      ],
      "source": [
        "# We will add the vector v to each row of the matrix x,\n",
        "# storing the result in the matrix y\n",
        "x = np.array([[1,2,3], [4,5,6], [7,8,9], [10, 11, 12]])\n",
        "v = np.array([1, 0, 1])\n",
        "y = x + v  # Add v to each row of x using broadcasting\n",
        "print(y)  # Prints \"[[ 2  2  4]\n",
        "          #          [ 5  5  7]\n",
        "          #          [ 8  8 10]\n",
        "          #          [11 11 13]]\""
      ]
    },
    {
      "cell_type": "markdown",
      "metadata": {
        "id": "9RS92ZF8M6k-"
      },
      "source": [
        "The line y = x + v works even though x has shape (4, 3) and v has shape (3,) due to broadcasting; this line works as if v actually had shape (4, 3), where each row was a copy of v, and the sum was performed elementwise.\n",
        "\n",
        "Broadcasting two arrays together follows these rules:\n",
        "\n",
        "1.   If the arrays do not have the same rank, prepend the shape of the lower rank array with 1s until both shapes have the same length.\n",
        "2.   The two arrays are said to be compatible in a dimension if they have the same size in the dimension, or if one of the arrays has size 1 in that dimension.\n",
        "3. The arrays can be broadcast together if they are compatible in all dimensions.\n",
        "4. After broadcasting, each array behaves as if it had shape equal to the elementwise maximum of shapes of the two input arrays.\n",
        "5. In any dimension where one array had size 1 and the other array had size greater than 1, the first array behaves as if it were copied along that dimension\n",
        "\n",
        "If this explanation does not make sense, try reading the explanation from the documentation or this explanation.\n",
        "\n",
        "Functions that support broadcasting are known as universal functions. You can find the list of all universal functions in the documentation.\n",
        "\n",
        "Here are some applications of broadcasting:"
      ]
    },
    {
      "cell_type": "code",
      "execution_count": 19,
      "metadata": {
        "colab": {
          "base_uri": "https://localhost:8080/"
        },
        "id": "rgMsiMWfM5Fp",
        "outputId": "ee4745fe-2c99-4d28-d4d8-62a158ff628d"
      },
      "outputs": [
        {
          "output_type": "stream",
          "name": "stdout",
          "text": [
            "[[ 4  5]\n",
            " [ 8 10]\n",
            " [12 15]]\n",
            "[[2 4 6]\n",
            " [5 7 9]]\n",
            "[[ 5  6  7]\n",
            " [ 9 10 11]]\n",
            "[[ 5  6  7]\n",
            " [ 9 10 11]]\n",
            "[[ 2  4  6]\n",
            " [ 8 10 12]]\n"
          ]
        }
      ],
      "source": [
        "# Compute outer product of vectors\n",
        "v = np.array([1,2,3])  # v has shape (3,)\n",
        "w = np.array([4,5])    # w has shape (2,)\n",
        "# To compute an outer product, we first reshape v to be a column\n",
        "# vector of shape (3, 1); we can then broadcast it against w to yield\n",
        "# an output of shape (3, 2), which is the outer product of v and w:\n",
        "# [[ 4  5]\n",
        "#  [ 8 10]\n",
        "#  [12 15]]\n",
        "print(np.reshape(v, (3, 1)) * w)\n",
        "\n",
        "# Add a vector to each row of a matrix\n",
        "x = np.array([[1,2,3], [4,5,6]])\n",
        "# x has shape (2, 3) and v has shape (3,) so they broadcast to (2, 3),\n",
        "# giving the following matrix:\n",
        "# [[2 4 6]\n",
        "#  [5 7 9]]\n",
        "print(x + v)\n",
        "\n",
        "# Add a vector to each column of a matrix\n",
        "# x has shape (2, 3) and w has shape (2,).\n",
        "# If we transpose x then it has shape (3, 2) and can be broadcast\n",
        "# against w to yield a result of shape (3, 2); transposing this result\n",
        "# yields the final result of shape (2, 3) which is the matrix x with\n",
        "# the vector w added to each column. Gives the following matrix:\n",
        "# [[ 5  6  7]\n",
        "#  [ 9 10 11]]\n",
        "print((x.T + w).T)\n",
        "# Another solution is to reshape w to be a column vector of shape (2, 1);\n",
        "# we can then broadcast it directly against x to produce the same\n",
        "# output.\n",
        "print(x + np.reshape(w, (2, 1)))\n",
        "\n",
        "# Multiply a matrix by a constant:\n",
        "# x has shape (2, 3). Numpy treats scalars as arrays of shape ();\n",
        "# these can be broadcast together to shape (2, 3), producing the\n",
        "# following array:\n",
        "# [[ 2  4  6]\n",
        "#  [ 8 10 12]]\n",
        "print(x * 2)"
      ]
    },
    {
      "cell_type": "markdown",
      "metadata": {
        "id": "-K8zrv-gQTDY"
      },
      "source": [
        "## Pillow and Matplotlib\n",
        "Pillow is the standard Python Imaging Library and provides a large number of functions that operate on images.\n",
        "\n",
        "The best way to get familiar with Pillow is to [browse the documentation](https://pillow.readthedocs.io/en/stable/handbook/tutorial.htmll). We will not be using Pillow  a whole lot in this course, but it is still useful to know about it.\n",
        "\n",
        "Pillow provides some basic functions to work with images. For example, it has functions to read images from disk into numpy arrays, to write numpy arrays to disk as images, and to resize images. Here is a simple example that showcases these functions:"
      ]
    },
    {
      "cell_type": "code",
      "execution_count": 24,
      "metadata": {
        "colab": {
          "base_uri": "https://localhost:8080/"
        },
        "id": "0J_8oPTpXr5Z",
        "outputId": "5eb117c9-73cb-4053-dc59-7f64da78bd7d"
      },
      "outputs": [
        {
          "output_type": "stream",
          "name": "stdout",
          "text": [
            "'/content/gdrive/My Drive/cat.jpg'\n"
          ]
        }
      ],
      "source": [
        "# First download a test image\n",
        "import urllib.request\n",
        "\n",
        "url = \"https://github.com/klaverhenrik/Deep-Learing-for-Visual-Recognition-2022/raw/main/data/cat.jpg\"\n",
        "urllib.request.urlretrieve(url,'/content/gdrive/My Drive/cat.jpg')\n",
        "\n",
        "# Check that the file is in your Drive\n",
        "!ls \"/content/gdrive/My Drive/cat.jpg\""
      ]
    },
    {
      "cell_type": "markdown",
      "metadata": {
        "id": "sHHuJRJUnshZ"
      },
      "source": [
        "Note: You may want to use a different folder than /content/gdrive/My Drive/, which the root folder of your Drive."
      ]
    },
    {
      "cell_type": "code",
      "execution_count": 27,
      "metadata": {
        "colab": {
          "base_uri": "https://localhost:8080/"
        },
        "id": "YODFNoTTQ1AB",
        "outputId": "c624dcdc-1a76-4d9a-a124-123590bec7e9"
      },
      "outputs": [
        {
          "output_type": "stream",
          "name": "stdout",
          "text": [
            "uint8 (1199, 1200, 3)\n"
          ]
        }
      ],
      "source": [
        "from PIL import Image\n",
        "\n",
        "# Read an JPEG image into a numpy array\n",
        "im = Image.open('/content/gdrive/My Drive/cat.jpg')\n",
        "\n",
        "# Convert to numpy array\n",
        "im_np = np.array(im)\n",
        "print(im_np.dtype, im_np.shape)  # Prints \"uint8 (328, 582, 3)\"\n",
        "\n",
        "# Convert numpy array to image\n",
        "im_new = Image.fromarray(im_np)\n",
        "\n",
        "# Resize the tinted image to be 300 by 300 pixels.\n",
        "im_resized = im_new.resize((300, 300))\n",
        "\n",
        "# Write the tinted image back to disk\n",
        "im_resized.save('/content/gdrive/My Drive/cat_new.jpg')"
      ]
    },
    {
      "cell_type": "markdown",
      "metadata": {
        "id": "CGBR4Z-ZboDP"
      },
      "source": [
        "[Matplotlib](http://matplotlib.org/) is a plotting library. You can use the imshow function to show images.\n",
        "\n",
        "Let's display the cat image before and after our manipulation:"
      ]
    },
    {
      "cell_type": "code",
      "execution_count": 29,
      "metadata": {
        "colab": {
          "base_uri": "https://localhost:8080/",
          "height": 291
        },
        "id": "UASIiqsjbylJ",
        "outputId": "42fb53d7-e03a-46e5-8040-3b62ad4fff37"
      },
      "outputs": [
        {
          "output_type": "display_data",
          "data": {
            "text/plain": [
              "<Figure size 640x480 with 2 Axes>"
            ],
            "image/png": "[encoded data removed]"
          },
          "metadata": {}
        }
      ],
      "source": [
        "import matplotlib.pyplot as plt\n",
        "\n",
        "im = np.array(Image.open('/content/gdrive/My Drive/cat.jpg'))\n",
        "im_tinted = np.array(Image.open('/content/gdrive/My Drive/cat_new.jpg'))\n",
        "\n",
        "# Show the original image\n",
        "plt.subplot(1, 2, 1)\n",
        "plt.imshow(im)\n",
        "\n",
        "# Show the tinted image\n",
        "plt.subplot(1, 2, 2)\n",
        "plt.imshow(im_tinted)\n",
        "plt.show()"
      ]
    },
    {
      "cell_type": "markdown",
      "metadata": {
        "id": "7KfqcUOZcTsw"
      },
      "source": [
        "### Plotting\n",
        "The most important function in matplotlib is plot, which allows you to plot 2D data. Here is a simple example:\n"
      ]
    },
    {
      "cell_type": "code",
      "execution_count": 30,
      "metadata": {
        "colab": {
          "base_uri": "https://localhost:8080/",
          "height": 430
        },
        "id": "ieDFtq6ycMl5",
        "outputId": "418a27e6-5970-4e03-ca77-74d278d9d7ec"
      },
      "outputs": [
        {
          "output_type": "display_data",
          "data": {
            "text/plain": [
              "<Figure size 640x480 with 1 Axes>"
            ],
            "image/png": "[encoded data removed]"
          },
          "metadata": {}
        }
      ],
      "source": [
        "# Compute the x and y coordinates for points on a sine curve\n",
        "x = np.arange(0, 3 * np.pi, 0.1)\n",
        "y = np.sin(x)\n",
        "\n",
        "# Plot the points using matplotlib\n",
        "plt.plot(x, y)\n",
        "plt.show()  # You must call plt.show() to make graphics appear."
      ]
    },
    {
      "cell_type": "markdown",
      "metadata": {
        "id": "EiqYKr2Ucf2L"
      },
      "source": [
        "With just a little bit of extra work we can easily plot multiple lines at once, and add a title, legend, and axis labels:"
      ]
    },
    {
      "cell_type": "code",
      "execution_count": 31,
      "metadata": {
        "colab": {
          "base_uri": "https://localhost:8080/",
          "height": 472
        },
        "id": "p-1XPJ3kcdOp",
        "outputId": "ce91818a-1c80-4a31-afe3-6f4cb877a019"
      },
      "outputs": [
        {
          "output_type": "display_data",
          "data": {
            "text/plain": [
              "<Figure size 640x480 with 1 Axes>"
            ],
            "image/png": "[encoded data removed]"
          },
          "metadata": {}
        }
      ],
      "source": [
        "# Compute the x and y coordinates for points on sine and cosine curves\n",
        "x = np.arange(0, 3 * np.pi, 0.1)\n",
        "y_sin = np.sin(x)\n",
        "y_cos = np.cos(x)\n",
        "\n",
        "# Plot the points using matplotlib\n",
        "plt.plot(x, y_sin)\n",
        "plt.plot(x, y_cos)\n",
        "plt.xlabel('x axis label')\n",
        "plt.ylabel('y axis label')\n",
        "plt.title('Sine and Cosine')\n",
        "plt.legend(['Sine', 'Cosine'])\n",
        "plt.show()"
      ]
    },
    {
      "cell_type": "markdown",
      "metadata": {
        "id": "f6xiKycpclhO"
      },
      "source": [
        "### Subplots\n",
        "You can plot different things in the same figure using the subplot function. Here is an example:"
      ]
    },
    {
      "cell_type": "code",
      "execution_count": 32,
      "metadata": {
        "colab": {
          "base_uri": "https://localhost:8080/",
          "height": 452
        },
        "id": "gi8yb9hecjJK",
        "outputId": "11203c6b-82b1-4fa0-a915-b4f15dc9fdb3"
      },
      "outputs": [
        {
          "output_type": "display_data",
          "data": {
            "text/plain": [
              "<Figure size 640x480 with 2 Axes>"
            ],
            "image/png": "[encoded data removed]"
          },
          "metadata": {}
        }
      ],
      "source": [
        "# Compute the x and y coordinates for points on sine and cosine curves\n",
        "x = np.arange(0, 3 * np.pi, 0.1)\n",
        "y_sin = np.sin(x)\n",
        "y_cos = np.cos(x)\n",
        "\n",
        "# Set up a subplot grid that has height 2 and width 1,\n",
        "# and set the first such subplot as active.\n",
        "plt.subplot(2, 1, 1)\n",
        "\n",
        "# Make the first plot\n",
        "plt.plot(x, y_sin)\n",
        "plt.title('Sine')\n",
        "\n",
        "# Set the second subplot as active, and make the second plot.\n",
        "plt.subplot(2, 1, 2)\n",
        "plt.plot(x, y_cos)\n",
        "plt.title('Cosine')\n",
        "\n",
        "# Show the figure.\n",
        "plt.show()"
      ]
    }
  ],
  "metadata": {
    "colab": {
      "collapsed_sections": [
        "xE0VnvizIz3u",
        "O2XE6JYNKdgH",
        "0k7NUMeRKzZ9",
        "FeZINNwbLdou",
        "68KTBZCuMHWO",
        "PNS3LfqgMOAG",
        "pm-o7tYSMo-e",
        "7KfqcUOZcTsw",
        "f6xiKycpclhO"
      ],
      "name": "Lab1_Tutorial.ipynb",
      "provenance": [],
      "gpuType": "T4"
    },
    "kernelspec": {
      "display_name": "Python 3",
      "name": "python3"
    },
    "language_info": {
      "codemirror_mode": {
        "name": "ipython",
        "version": 3
      },
      "file_extension": ".py",
      "mimetype": "text/x-python",
      "name": "python",
      "nbconvert_exporter": "python",
      "pygments_lexer": "ipython3",
      "version": "3.8.11"
    }
  },
  "nbformat": 4,
  "nbformat_minor": 0
}